{
 "cells": [
  {
   "cell_type": "markdown",
   "source": [
    "# 数据与需求\n",
    "原数据如下，这是一个 Series，从 1 到 24 的等差数列："
   ],
   "metadata": {
    "collapsed": false
   }
  },
  {
   "cell_type": "code",
   "execution_count": 1,
   "metadata": {
    "collapsed": true
   },
   "outputs": [],
   "source": [
    "import pandas as pd\n",
    "import numpy as np\n"
   ]
  },
  {
   "cell_type": "code",
   "execution_count": 2,
   "outputs": [
    {
     "data": {
      "text/plain": "0      1\n1      2\n2      3\n3      4\n4      5\n5      6\n6      7\n7      8\n8      9\n9     10\n10    11\n11    12\n12    13\n13    14\n14    15\n15    16\n16    17\n17    18\n18    19\n19    20\n20    21\n21    22\n22    23\n23    24\ndtype: int64"
     },
     "execution_count": 2,
     "metadata": {},
     "output_type": "execute_result"
    }
   ],
   "source": [
    "ser = pd.Series(range(1,25))\n",
    "ser\n"
   ],
   "metadata": {
    "collapsed": false,
    "pycharm": {
     "name": "#%%\n"
    }
   }
  },
  {
   "cell_type": "markdown",
   "source": [
    "需要转为以下形式。对数列整体等分划为三部分，每个部分有两列，前四个在第一列，后四个在第二列，同时对每份数据指定了同名的索引标签。\n",
    "# 转为以下数据\n"
   ],
   "metadata": {
    "collapsed": false
   }
  },
  {
   "cell_type": "code",
   "execution_count": null,
   "outputs": [],
   "source": [
    "\n",
    "\"\"\"\n",
    "      A   B\n",
    "y\n",
    "1 A   1   5\n",
    "  B   2   6\n",
    "  C   3   7\n",
    "  D   4   8\n",
    "2 A   9  13\n",
    "  B  10  14\n",
    "  C  11  15\n",
    "  D  12  16\n",
    "3 A  17  21\n",
    "  B  18  22\n",
    "  C  19  23\n",
    "  D  20  24\n",
    "\"\"\"\n"
   ],
   "metadata": {
    "collapsed": false,
    "pycharm": {
     "name": "#%%\n",
     "is_executing": true
    }
   }
  },
  {
   "cell_type": "markdown",
   "source": [
    "# 思路\n",
    "为了方便后续操作，可以将数据先转为 DataFrame，这样我们就可以新增加辅助列了。由于要对现有数据等份划分，我们可以我是利用 pd.cut() 数据分箱来完成，对它指定箱子数量，可以帮助我们进行平均划分，为了方便识别我们在分箱后对每个箱子的标签进行指定。\n",
    "\n",
    "接下来，按箱子的标签进行分组，每个组就是要分在一起的数据，我们写一个函数对这些数据进行处理，拼接成想要的数据格式。\n",
    "\n",
    "处理分组的函数可以这样设计，由于它接收的数据只有一列，我们将它 用 NumPy 的 np.reshape() 进行形状变化，变化后构造为 DataFrame，同时给出列和行的标签值。"
   ],
   "metadata": {
    "collapsed": false
   }
  },
  {
   "cell_type": "code",
   "execution_count": null,
   "outputs": [],
   "source": [],
   "metadata": {
    "collapsed": false,
    "pycharm": {
     "name": "#%%\n"
    }
   }
  }
 ],
 "metadata": {
  "kernelspec": {
   "display_name": "Python 3",
   "language": "python",
   "name": "python3"
  },
  "language_info": {
   "codemirror_mode": {
    "name": "ipython",
    "version": 2
   },
   "file_extension": ".py",
   "mimetype": "text/x-python",
   "name": "python",
   "nbconvert_exporter": "python",
   "pygments_lexer": "ipython2",
   "version": "2.7.6"
  }
 },
 "nbformat": 4,
 "nbformat_minor": 0
}