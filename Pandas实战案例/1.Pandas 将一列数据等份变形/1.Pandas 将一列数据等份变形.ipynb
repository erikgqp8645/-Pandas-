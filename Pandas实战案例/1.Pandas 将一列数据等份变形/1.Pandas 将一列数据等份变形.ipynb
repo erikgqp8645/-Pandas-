{
 "cells": [
  {
   "cell_type": "markdown",
   "source": [
    "# 数据与需求\n",
    "原数据如下，这是一个 Series，从 1 到 24 的等差数列："
   ],
   "metadata": {
    "collapsed": false,
    "id": "omYSstfULdpa",
    "pycharm": {
     "name": "#%% md\n"
    }
   }
  },
  {
   "cell_type": "code",
   "execution_count": 106,
   "metadata": {
    "collapsed": true,
    "id": "DDgfINX4Ldpd"
   },
   "outputs": [],
   "source": [
    "import pandas as pd\n",
    "import numpy as np\n"
   ]
  },
  {
   "cell_type": "code",
   "execution_count": 107,
   "outputs": [
    {
     "data": {
      "text/plain": "0      1\n1      2\n2      3\n3      4\n4      5\n5      6\n6      7\n7      8\n8      9\n9     10\n10    11\n11    12\n12    13\n13    14\n14    15\n15    16\n16    17\n17    18\n18    19\n19    20\n20    21\n21    22\n22    23\n23    24\ndtype: int64"
     },
     "execution_count": 107,
     "metadata": {},
     "output_type": "execute_result"
    }
   ],
   "source": [
    "ser = pd.Series(range(1, 25))\n",
    "ser\n"
   ],
   "metadata": {
    "collapsed": false,
    "pycharm": {
     "name": "#%%\n"
    }
   }
  },
  {
   "cell_type": "markdown",
   "source": [
    "需要转为以下形式。对数列整体等分划为三部分，每个部分有两列，前四个在第一列，后四个在第二列，同时对每份数据指定了同名的索引标签。\n",
    "# 转为以下数据\n"
   ],
   "metadata": {
    "collapsed": false,
    "id": "e4poerw_Ldpf"
   }
  },
  {
   "cell_type": "code",
   "execution_count": 108,
   "outputs": [
    {
     "data": {
      "text/plain": "'\\n      A   B\\ny\\n1 A   1   5\\n  B   2   6\\n  C   3   7\\n  D   4   8\\n2 A   9  13\\n  B  10  14\\n  C  11  15\\n  D  12  16\\n3 A  17  21\\n  B  18  22\\n  C  19  23\\n  D  20  24\\n'"
     },
     "execution_count": 108,
     "metadata": {},
     "output_type": "execute_result"
    }
   ],
   "source": [
    "\n",
    "\"\"\"\n",
    "      A   B\n",
    "y\n",
    "1 A   1   5\n",
    "  B   2   6\n",
    "  C   3   7\n",
    "  D   4   8\n",
    "2 A   9  13\n",
    "  B  10  14\n",
    "  C  11  15\n",
    "  D  12  16\n",
    "3 A  17  21\n",
    "  B  18  22\n",
    "  C  19  23\n",
    "  D  20  24\n",
    "\"\"\"\n"
   ],
   "metadata": {
    "pycharm": {
     "name": "#%%\n"
    },
    "id": "kRoQZb2DLdpf",
    "outputId": "7cf03595-e3fb-4ae6-cafe-2f092e1bd591",
    "colab": {
     "base_uri": "https://localhost:8080/",
     "height": 53
    }
   }
  },
  {
   "cell_type": "markdown",
   "source": [
    "# 思路\n",
    "为了方便后续操作，可以将数据先转为 DataFrame，这样我们就可以新增加辅助列了。由于要对现有数据等份划分，我们可以我是利用 pd.cut() 数据分箱来完成，对它指定箱子数量，可以帮助我们进行平均划分，为了方便识别我们在分箱后对每个箱子的标签进行指定。\n",
    "\n",
    "接下来，按箱子的标签进行分组，每个组就是要分在一起的数据，我们写一个函数对这些数据进行处理，拼接成想要的数据格式。\n",
    "\n",
    "处理分组的函数可以这样设计，由于它接收的数据只有一列，我们将它 用 NumPy 的 np.reshape() 进行形状变化，变化后构造为 DataFrame，同时给出列和行的标签值。"
   ],
   "metadata": {
    "collapsed": false,
    "id": "ByBHilZBLdpf"
   }
  },
  {
   "cell_type": "code",
   "execution_count": 109,
   "outputs": [
    {
     "data": {
      "text/plain": "     x\n0    1\n1    2\n2    3\n3    4\n4    5\n5    6\n6    7\n7    8\n8    9\n9   10\n10  11\n11  12\n12  13\n13  14\n14  15\n15  16\n16  17\n17  18\n18  19\n19  20\n20  21\n21  22\n22  23\n23  24",
      "text/html": "<div>\n<style scoped>\n    .dataframe tbody tr th:only-of-type {\n        vertical-align: middle;\n    }\n\n    .dataframe tbody tr th {\n        vertical-align: top;\n    }\n\n    .dataframe thead th {\n        text-align: right;\n    }\n</style>\n<table border=\"1\" class=\"dataframe\">\n  <thead>\n    <tr style=\"text-align: right;\">\n      <th></th>\n      <th>x</th>\n    </tr>\n  </thead>\n  <tbody>\n    <tr>\n      <th>0</th>\n      <td>1</td>\n    </tr>\n    <tr>\n      <th>1</th>\n      <td>2</td>\n    </tr>\n    <tr>\n      <th>2</th>\n      <td>3</td>\n    </tr>\n    <tr>\n      <th>3</th>\n      <td>4</td>\n    </tr>\n    <tr>\n      <th>4</th>\n      <td>5</td>\n    </tr>\n    <tr>\n      <th>5</th>\n      <td>6</td>\n    </tr>\n    <tr>\n      <th>6</th>\n      <td>7</td>\n    </tr>\n    <tr>\n      <th>7</th>\n      <td>8</td>\n    </tr>\n    <tr>\n      <th>8</th>\n      <td>9</td>\n    </tr>\n    <tr>\n      <th>9</th>\n      <td>10</td>\n    </tr>\n    <tr>\n      <th>10</th>\n      <td>11</td>\n    </tr>\n    <tr>\n      <th>11</th>\n      <td>12</td>\n    </tr>\n    <tr>\n      <th>12</th>\n      <td>13</td>\n    </tr>\n    <tr>\n      <th>13</th>\n      <td>14</td>\n    </tr>\n    <tr>\n      <th>14</th>\n      <td>15</td>\n    </tr>\n    <tr>\n      <th>15</th>\n      <td>16</td>\n    </tr>\n    <tr>\n      <th>16</th>\n      <td>17</td>\n    </tr>\n    <tr>\n      <th>17</th>\n      <td>18</td>\n    </tr>\n    <tr>\n      <th>18</th>\n      <td>19</td>\n    </tr>\n    <tr>\n      <th>19</th>\n      <td>20</td>\n    </tr>\n    <tr>\n      <th>20</th>\n      <td>21</td>\n    </tr>\n    <tr>\n      <th>21</th>\n      <td>22</td>\n    </tr>\n    <tr>\n      <th>22</th>\n      <td>23</td>\n    </tr>\n    <tr>\n      <th>23</th>\n      <td>24</td>\n    </tr>\n  </tbody>\n</table>\n</div>"
     },
     "execution_count": 109,
     "metadata": {},
     "output_type": "execute_result"
    }
   ],
   "source": [
    "ser = ser.to_frame('x')\n",
    "ser"
   ],
   "metadata": {
    "collapsed": false,
    "pycharm": {
     "name": "#%%\n"
    }
   }
  },
  {
   "cell_type": "code",
   "source": [
    "ser = ser.assign(y=pd.cut(ser.index, bins=3, labels=[*'123']))\n",
    "ser"
   ],
   "metadata": {
    "id": "ACv37reZL3vP",
    "outputId": "ed9deb19-c148-4f84-eef0-68e352d4afac",
    "colab": {
     "base_uri": "https://localhost:8080/",
     "height": 802
    }
   },
   "execution_count": 110,
   "outputs": [
    {
     "data": {
      "text/plain": "     x  y\n0    1  1\n1    2  1\n2    3  1\n3    4  1\n4    5  1\n5    6  1\n6    7  1\n7    8  1\n8    9  2\n9   10  2\n10  11  2\n11  12  2\n12  13  2\n13  14  2\n14  15  2\n15  16  2\n16  17  3\n17  18  3\n18  19  3\n19  20  3\n20  21  3\n21  22  3\n22  23  3\n23  24  3",
      "text/html": "<div>\n<style scoped>\n    .dataframe tbody tr th:only-of-type {\n        vertical-align: middle;\n    }\n\n    .dataframe tbody tr th {\n        vertical-align: top;\n    }\n\n    .dataframe thead th {\n        text-align: right;\n    }\n</style>\n<table border=\"1\" class=\"dataframe\">\n  <thead>\n    <tr style=\"text-align: right;\">\n      <th></th>\n      <th>x</th>\n      <th>y</th>\n    </tr>\n  </thead>\n  <tbody>\n    <tr>\n      <th>0</th>\n      <td>1</td>\n      <td>1</td>\n    </tr>\n    <tr>\n      <th>1</th>\n      <td>2</td>\n      <td>1</td>\n    </tr>\n    <tr>\n      <th>2</th>\n      <td>3</td>\n      <td>1</td>\n    </tr>\n    <tr>\n      <th>3</th>\n      <td>4</td>\n      <td>1</td>\n    </tr>\n    <tr>\n      <th>4</th>\n      <td>5</td>\n      <td>1</td>\n    </tr>\n    <tr>\n      <th>5</th>\n      <td>6</td>\n      <td>1</td>\n    </tr>\n    <tr>\n      <th>6</th>\n      <td>7</td>\n      <td>1</td>\n    </tr>\n    <tr>\n      <th>7</th>\n      <td>8</td>\n      <td>1</td>\n    </tr>\n    <tr>\n      <th>8</th>\n      <td>9</td>\n      <td>2</td>\n    </tr>\n    <tr>\n      <th>9</th>\n      <td>10</td>\n      <td>2</td>\n    </tr>\n    <tr>\n      <th>10</th>\n      <td>11</td>\n      <td>2</td>\n    </tr>\n    <tr>\n      <th>11</th>\n      <td>12</td>\n      <td>2</td>\n    </tr>\n    <tr>\n      <th>12</th>\n      <td>13</td>\n      <td>2</td>\n    </tr>\n    <tr>\n      <th>13</th>\n      <td>14</td>\n      <td>2</td>\n    </tr>\n    <tr>\n      <th>14</th>\n      <td>15</td>\n      <td>2</td>\n    </tr>\n    <tr>\n      <th>15</th>\n      <td>16</td>\n      <td>2</td>\n    </tr>\n    <tr>\n      <th>16</th>\n      <td>17</td>\n      <td>3</td>\n    </tr>\n    <tr>\n      <th>17</th>\n      <td>18</td>\n      <td>3</td>\n    </tr>\n    <tr>\n      <th>18</th>\n      <td>19</td>\n      <td>3</td>\n    </tr>\n    <tr>\n      <th>19</th>\n      <td>20</td>\n      <td>3</td>\n    </tr>\n    <tr>\n      <th>20</th>\n      <td>21</td>\n      <td>3</td>\n    </tr>\n    <tr>\n      <th>21</th>\n      <td>22</td>\n      <td>3</td>\n    </tr>\n    <tr>\n      <th>22</th>\n      <td>23</td>\n      <td>3</td>\n    </tr>\n    <tr>\n      <th>23</th>\n      <td>24</td>\n      <td>3</td>\n    </tr>\n  </tbody>\n</table>\n</div>"
     },
     "execution_count": 110,
     "metadata": {},
     "output_type": "execute_result"
    }
   ]
  },
  {
   "cell_type": "code",
   "execution_count": 111,
   "outputs": [
    {
     "name": "stdout",
     "output_type": "stream",
     "text": [
      "   A  B\n",
      "A  1  5\n",
      "B  2  6\n",
      "C  3  7\n",
      "D  4  8\n",
      "    A   B\n",
      "A   9  13\n",
      "B  10  14\n",
      "C  11  15\n",
      "D  12  16\n",
      "    A   B\n",
      "A  17  21\n",
      "B  18  22\n",
      "C  19  23\n",
      "D  20  24\n"
     ]
    }
   ],
   "source": [
    "ser = ser.groupby(ser[\"y\"])\n",
    "for k, v in ser:\n",
    "    vv = np.reshape(v.x.to_numpy(), [4, 2], order=\"F\")\n",
    "    df = pd.DataFrame(vv, index=[*\"ABCD\"], columns=[*\"AB\"])\n",
    "    print(df)"
   ],
   "metadata": {
    "collapsed": false,
    "pycharm": {
     "name": "#%%\n"
    }
   }
  },
  {
   "cell_type": "code",
   "source": [],
   "metadata": {
    "id": "olPeaR0pwcXZ",
    "outputId": "7af3e2d0-4be0-4d8a-bb79-626af213ec53",
    "colab": {
     "base_uri": "https://localhost:8080/",
     "height": 364
    }
   },
   "execution_count": 111,
   "outputs": []
  },
  {
   "cell_type": "code",
   "source": [
    ""
   ],
   "metadata": {
    "id": "LQzrG7LQwfSK"
   },
   "execution_count": 111,
   "outputs": []
  }
 ],
 "metadata": {
  "kernelspec": {
   "display_name": "Python 3",
   "language": "python",
   "name": "python3"
  },
  "language_info": {
   "codemirror_mode": {
    "name": "ipython",
    "version": 2
   },
   "file_extension": ".py",
   "mimetype": "text/x-python",
   "name": "python",
   "nbconvert_exporter": "python",
   "pygments_lexer": "ipython2",
   "version": "2.7.6"
  },
  "colab": {
   "name": "1.Pandas 将一列数据等份变形.ipynb",
   "provenance": []
  }
 },
 "nbformat": 4,
 "nbformat_minor": 0
}