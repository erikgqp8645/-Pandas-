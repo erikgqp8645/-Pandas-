{
 "cells": [
  {
   "cell_type": "markdown",
   "metadata": {},
   "source": [
    "## pandas 标记一行是否包含一些内容\n",
    "在一个数据表中，如果想要对满足一定取值规则的行进行标记，pandas 也能非常方便地实现解决，本案例求我们就来完成这样的一个常见的需求。这个问题来自于知乎。"
   ]
  },
  {
   "cell_type": "markdown",
   "metadata": {},
   "source": [
    "* 原数据如下：\n",
    "```\n",
    "dct = {\n",
    "'A': [7, 8, 1, 10, 4, 7, 10], \n",
    "'B': [4, 2, 6, 5, 3, 10, 6], \n",
    "'C': [6, 1, 10, 4, 2, 7, 6], \n",
    "'D': [4, 1, 8, 6, 4, 10, 10], \n",
    "'E': [5, 5, 8, 2, 1, 10, 9], \n",
    "'F': [4, 2, 6, 9, 9, 1, 9], \n",
    "'G': [5, 4, 1, 8, 6, 9, 1]\n",
    "}\n",
    "\n",
    "df = pd.DataFrame(dct)\n",
    "df\n",
    "'''\n",
    "    A   B   C   D   E  F  G\n",
    "0   7   4   6   4   5  4  5\n",
    "1   8   2   1   1   5  2  4\n",
    "2   1   6  10   8   8  6  1\n",
    "3  10   5   4   6   2  9  8\n",
    "4   4   3   2   4   1  9  6\n",
    "5   7  10   7  10  10  1  9\n",
    "6  10   6   6  10   9  9  1\n",
    "'''\n",
    "```"
   ]
  },
  {
   "cell_type": "markdown",
   "metadata": {},
   "source": [
    "* 需求为增加一列，标记该行如果包含 4 或者 5 为 True，否则为 False。\n",
    "## 思路\n",
    "先判断 DataFrame 上每个值是否为 4 或者 5，得到一个布尔值 DataFrame，满足条件的位置为 True。\n",
    "\n",
    "然后再判断整行是否有 True，得到一个布尔序列，最后将这个布尔序列增加为一个新列。\n",
    "根据思路编写代码过程如下。先判断所有值是否为 4 或者 5："
   ]
  },
  {
   "cell_type": "code",
   "execution_count": 1,
   "metadata": {},
   "outputs": [
    {
     "data": {
      "text/html": [
       "<div>\n",
       "<style scoped>\n",
       "    .dataframe tbody tr th:only-of-type {\n",
       "        vertical-align: middle;\n",
       "    }\n",
       "\n",
       "    .dataframe tbody tr th {\n",
       "        vertical-align: top;\n",
       "    }\n",
       "\n",
       "    .dataframe thead th {\n",
       "        text-align: right;\n",
       "    }\n",
       "</style>\n",
       "<table border=\"1\" class=\"dataframe\">\n",
       "  <thead>\n",
       "    <tr style=\"text-align: right;\">\n",
       "      <th></th>\n",
       "      <th>A</th>\n",
       "      <th>B</th>\n",
       "      <th>C</th>\n",
       "      <th>D</th>\n",
       "      <th>E</th>\n",
       "      <th>F</th>\n",
       "      <th>G</th>\n",
       "    </tr>\n",
       "  </thead>\n",
       "  <tbody>\n",
       "    <tr>\n",
       "      <th>0</th>\n",
       "      <td>7</td>\n",
       "      <td>4</td>\n",
       "      <td>6</td>\n",
       "      <td>4</td>\n",
       "      <td>5</td>\n",
       "      <td>4</td>\n",
       "      <td>5</td>\n",
       "    </tr>\n",
       "    <tr>\n",
       "      <th>1</th>\n",
       "      <td>8</td>\n",
       "      <td>2</td>\n",
       "      <td>1</td>\n",
       "      <td>1</td>\n",
       "      <td>5</td>\n",
       "      <td>2</td>\n",
       "      <td>4</td>\n",
       "    </tr>\n",
       "    <tr>\n",
       "      <th>2</th>\n",
       "      <td>1</td>\n",
       "      <td>6</td>\n",
       "      <td>10</td>\n",
       "      <td>8</td>\n",
       "      <td>8</td>\n",
       "      <td>6</td>\n",
       "      <td>1</td>\n",
       "    </tr>\n",
       "    <tr>\n",
       "      <th>3</th>\n",
       "      <td>10</td>\n",
       "      <td>5</td>\n",
       "      <td>4</td>\n",
       "      <td>6</td>\n",
       "      <td>2</td>\n",
       "      <td>9</td>\n",
       "      <td>8</td>\n",
       "    </tr>\n",
       "    <tr>\n",
       "      <th>4</th>\n",
       "      <td>4</td>\n",
       "      <td>3</td>\n",
       "      <td>2</td>\n",
       "      <td>4</td>\n",
       "      <td>1</td>\n",
       "      <td>9</td>\n",
       "      <td>6</td>\n",
       "    </tr>\n",
       "    <tr>\n",
       "      <th>5</th>\n",
       "      <td>7</td>\n",
       "      <td>10</td>\n",
       "      <td>7</td>\n",
       "      <td>10</td>\n",
       "      <td>10</td>\n",
       "      <td>1</td>\n",
       "      <td>9</td>\n",
       "    </tr>\n",
       "    <tr>\n",
       "      <th>6</th>\n",
       "      <td>10</td>\n",
       "      <td>6</td>\n",
       "      <td>6</td>\n",
       "      <td>10</td>\n",
       "      <td>9</td>\n",
       "      <td>9</td>\n",
       "      <td>1</td>\n",
       "    </tr>\n",
       "  </tbody>\n",
       "</table>\n",
       "</div>"
      ],
      "text/plain": [
       "    A   B   C   D   E  F  G\n",
       "0   7   4   6   4   5  4  5\n",
       "1   8   2   1   1   5  2  4\n",
       "2   1   6  10   8   8  6  1\n",
       "3  10   5   4   6   2  9  8\n",
       "4   4   3   2   4   1  9  6\n",
       "5   7  10   7  10  10  1  9\n",
       "6  10   6   6  10   9  9  1"
      ]
     },
     "execution_count": 1,
     "metadata": {},
     "output_type": "execute_result"
    }
   ],
   "source": [
    "import pandas as pd\n",
    "dct = {\n",
    "'A': [7, 8, 1, 10, 4, 7, 10], \n",
    "'B': [4, 2, 6, 5, 3, 10, 6], \n",
    "'C': [6, 1, 10, 4, 2, 7, 6], \n",
    "'D': [4, 1, 8, 6, 4, 10, 10], \n",
    "'E': [5, 5, 8, 2, 1, 10, 9], \n",
    "'F': [4, 2, 6, 9, 9, 1, 9], \n",
    "'G': [5, 4, 1, 8, 6, 9, 1]\n",
    "}\n",
    "\n",
    "df = pd.DataFrame(dct)\n",
    "df"
   ]
  },
  {
   "cell_type": "code",
   "execution_count": 9,
   "metadata": {},
   "outputs": [
    {
     "data": {
      "text/plain": [
       "0     True\n",
       "1     True\n",
       "2    False\n",
       "3    False\n",
       "4    False\n",
       "5     True\n",
       "6    False\n",
       "Name: A, dtype: bool"
      ]
     },
     "execution_count": 9,
     "metadata": {},
     "output_type": "execute_result"
    }
   ],
   "source": [
    "df.isin([7,8,9]).A"
   ]
  }
 ],
 "metadata": {
  "interpreter": {
   "hash": "c0e6e991c6d211bde555230c01c68c993edb8d40dba3c3698df5e587ccf488be"
  },
  "kernelspec": {
   "display_name": "Python 3.9.7 ('pythonGui')",
   "language": "python",
   "name": "python3"
  },
  "language_info": {
   "codemirror_mode": {
    "name": "ipython",
    "version": 3
   },
   "file_extension": ".py",
   "mimetype": "text/x-python",
   "name": "python",
   "nbconvert_exporter": "python",
   "pygments_lexer": "ipython3",
   "version": "3.9.7"
  },
  "orig_nbformat": 4
 },
 "nbformat": 4,
 "nbformat_minor": 2
}
