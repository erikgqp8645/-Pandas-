{
 "cells": [
  {
   "cell_type": "code",
   "execution_count": 17,
   "metadata": {},
   "outputs": [],
   "source": [
    "import pandas as pd\n",
    "import numpy as np"
   ]
  },
  {
   "cell_type": "code",
   "execution_count": 18,
   "metadata": {},
   "outputs": [
    {
     "data": {
      "text/plain": [
       "[0, 1, 2, 3, 4, 5]"
      ]
     },
     "execution_count": 18,
     "metadata": {},
     "output_type": "execute_result"
    }
   ],
   "source": [
    "x = list(np.arange(6))\n",
    "x"
   ]
  },
  {
   "cell_type": "code",
   "execution_count": 19,
   "metadata": {},
   "outputs": [
    {
     "data": {
      "text/plain": [
       "[3, 4, 5, 6, 7, 8]"
      ]
     },
     "execution_count": 19,
     "metadata": {},
     "output_type": "execute_result"
    }
   ],
   "source": [
    "y = list(np.arange(3,9))\n",
    "y"
   ]
  },
  {
   "cell_type": "code",
   "execution_count": 20,
   "metadata": {},
   "outputs": [
    {
     "data": {
      "text/plain": [
       "['Z', 'l', 'A', 'f', 'B', 'O']"
      ]
     },
     "execution_count": 20,
     "metadata": {},
     "output_type": "execute_result"
    }
   ],
   "source": [
    "index= [*\"ZlAfBO\"]\n",
    "index"
   ]
  },
  {
   "cell_type": "code",
   "execution_count": 21,
   "metadata": {},
   "outputs": [],
   "source": [
    "df = pd.DataFrame({\"y\":x,\"z\":y},index=index).rename_axis(\"x\",inplace=True)\n",
    "df"
   ]
  },
  {
   "cell_type": "code",
   "execution_count": 22,
   "metadata": {},
   "outputs": [
    {
     "ename": "AttributeError",
     "evalue": "'NoneType' object has no attribute 'reindex'",
     "output_type": "error",
     "traceback": [
      "\u001b[1;31m---------------------------------------------------------------------------\u001b[0m",
      "\u001b[1;31mAttributeError\u001b[0m                            Traceback (most recent call last)",
      "\u001b[1;32mi:\\quant\\-Pandas-\\Pandas实战案例\\1.Pandas 将一列数据等份变形\\2.星球作业.ipynb Cell 6'\u001b[0m in \u001b[0;36m<cell line: 1>\u001b[1;34m()\u001b[0m\n\u001b[1;32m----> <a href='vscode-notebook-cell:/i%3A/quant/-Pandas-/Pandas%E5%AE%9E%E6%88%98%E6%A1%88%E4%BE%8B/1.Pandas%20%E5%B0%86%E4%B8%80%E5%88%97%E6%95%B0%E6%8D%AE%E7%AD%89%E4%BB%BD%E5%8F%98%E5%BD%A2/2.%E6%98%9F%E7%90%83%E4%BD%9C%E4%B8%9A.ipynb#ch0000005?line=0'>1</a>\u001b[0m df\u001b[39m.\u001b[39;49mreindex([\u001b[39m*\u001b[39m\u001b[39m\"\u001b[39m\u001b[39mfZlABO\u001b[39m\u001b[39m\"\u001b[39m])\n",
      "\u001b[1;31mAttributeError\u001b[0m: 'NoneType' object has no attribute 'reindex'"
     ]
    }
   ],
   "source": [
    "df.reindex([*\"fZlABO\"])"
   ]
  },
  {
   "cell_type": "code",
   "execution_count": null,
   "metadata": {},
   "outputs": [
    {
     "data": {
      "text/plain": [
       "y     6\n",
       "z    12\n",
       "dtype: int64"
      ]
     },
     "execution_count": 12,
     "metadata": {},
     "output_type": "execute_result"
    }
   ],
   "source": [
    "df.loc[[\"A\",\"B\"]].sum()\n"
   ]
  },
  {
   "cell_type": "code",
   "execution_count": null,
   "metadata": {},
   "outputs": [
    {
     "ename": "AttributeError",
     "evalue": "'DataFrame' object has no attribute 'x'",
     "output_type": "error",
     "traceback": [
      "\u001b[1;31m---------------------------------------------------------------------------\u001b[0m",
      "\u001b[1;31mAttributeError\u001b[0m                            Traceback (most recent call last)",
      "\u001b[1;32mi:\\quant\\-Pandas-\\Pandas实战案例\\1.Pandas 将一列数据等份变形\\2.星球作业.ipynb Cell 8'\u001b[0m in \u001b[0;36m<cell line: 2>\u001b[1;34m()\u001b[0m\n\u001b[0;32m      <a href='vscode-notebook-cell:/i%3A/quant/-Pandas-/Pandas%E5%AE%9E%E6%88%98%E6%A1%88%E4%BE%8B/1.Pandas%20%E5%B0%86%E4%B8%80%E5%88%97%E6%95%B0%E6%8D%AE%E7%AD%89%E4%BB%BD%E5%8F%98%E5%BD%A2/2.%E6%98%9F%E7%90%83%E4%BD%9C%E4%B8%9A.ipynb#ch0000007?line=0'>1</a>\u001b[0m (\n\u001b[1;32m----> <a href='vscode-notebook-cell:/i%3A/quant/-Pandas-/Pandas%E5%AE%9E%E6%88%98%E6%A1%88%E4%BE%8B/1.Pandas%20%E5%B0%86%E4%B8%80%E5%88%97%E6%95%B0%E6%8D%AE%E7%AD%89%E4%BB%BD%E5%8F%98%E5%BD%A2/2.%E6%98%9F%E7%90%83%E4%BD%9C%E4%B8%9A.ipynb#ch0000007?line=1'>2</a>\u001b[0m     df\u001b[39m.\u001b[39mmask(df\u001b[39m.\u001b[39;49mx,\u001b[39m\"\u001b[39m\u001b[39m0\u001b[39m\u001b[39m\"\u001b[39m,axis\u001b[39m=\u001b[39m\u001b[39m1\u001b[39m)\n\u001b[0;32m      <a href='vscode-notebook-cell:/i%3A/quant/-Pandas-/Pandas%E5%AE%9E%E6%88%98%E6%A1%88%E4%BE%8B/1.Pandas%20%E5%B0%86%E4%B8%80%E5%88%97%E6%95%B0%E6%8D%AE%E7%AD%89%E4%BB%BD%E5%8F%98%E5%BD%A2/2.%E6%98%9F%E7%90%83%E4%BD%9C%E4%B8%9A.ipynb#ch0000007?line=2'>3</a>\u001b[0m )\n",
      "File \u001b[1;32m~\\Anaconda3\\envs\\pythonGui\\lib\\site-packages\\pandas\\core\\generic.py:5487\u001b[0m, in \u001b[0;36mNDFrame.__getattr__\u001b[1;34m(self, name)\u001b[0m\n\u001b[0;32m   <a href='file:///c%3A/Users/NiuBi/Anaconda3/envs/pythonGui/lib/site-packages/pandas/core/generic.py?line=5479'>5480</a>\u001b[0m \u001b[39mif\u001b[39;00m (\n\u001b[0;32m   <a href='file:///c%3A/Users/NiuBi/Anaconda3/envs/pythonGui/lib/site-packages/pandas/core/generic.py?line=5480'>5481</a>\u001b[0m     name \u001b[39mnot\u001b[39;00m \u001b[39min\u001b[39;00m \u001b[39mself\u001b[39m\u001b[39m.\u001b[39m_internal_names_set\n\u001b[0;32m   <a href='file:///c%3A/Users/NiuBi/Anaconda3/envs/pythonGui/lib/site-packages/pandas/core/generic.py?line=5481'>5482</a>\u001b[0m     \u001b[39mand\u001b[39;00m name \u001b[39mnot\u001b[39;00m \u001b[39min\u001b[39;00m \u001b[39mself\u001b[39m\u001b[39m.\u001b[39m_metadata\n\u001b[0;32m   <a href='file:///c%3A/Users/NiuBi/Anaconda3/envs/pythonGui/lib/site-packages/pandas/core/generic.py?line=5482'>5483</a>\u001b[0m     \u001b[39mand\u001b[39;00m name \u001b[39mnot\u001b[39;00m \u001b[39min\u001b[39;00m \u001b[39mself\u001b[39m\u001b[39m.\u001b[39m_accessors\n\u001b[0;32m   <a href='file:///c%3A/Users/NiuBi/Anaconda3/envs/pythonGui/lib/site-packages/pandas/core/generic.py?line=5483'>5484</a>\u001b[0m     \u001b[39mand\u001b[39;00m \u001b[39mself\u001b[39m\u001b[39m.\u001b[39m_info_axis\u001b[39m.\u001b[39m_can_hold_identifiers_and_holds_name(name)\n\u001b[0;32m   <a href='file:///c%3A/Users/NiuBi/Anaconda3/envs/pythonGui/lib/site-packages/pandas/core/generic.py?line=5484'>5485</a>\u001b[0m ):\n\u001b[0;32m   <a href='file:///c%3A/Users/NiuBi/Anaconda3/envs/pythonGui/lib/site-packages/pandas/core/generic.py?line=5485'>5486</a>\u001b[0m     \u001b[39mreturn\u001b[39;00m \u001b[39mself\u001b[39m[name]\n\u001b[1;32m-> <a href='file:///c%3A/Users/NiuBi/Anaconda3/envs/pythonGui/lib/site-packages/pandas/core/generic.py?line=5486'>5487</a>\u001b[0m \u001b[39mreturn\u001b[39;00m \u001b[39mobject\u001b[39;49m\u001b[39m.\u001b[39;49m\u001b[39m__getattribute__\u001b[39;49m(\u001b[39mself\u001b[39;49m, name)\n",
      "\u001b[1;31mAttributeError\u001b[0m: 'DataFrame' object has no attribute 'x'"
     ]
    }
   ],
   "source": [
    "(\n",
    "    df.mask(df.x,\"0\",axis=1)\n",
    ")"
   ]
  },
  {
   "cell_type": "code",
   "execution_count": null,
   "metadata": {},
   "outputs": [
    {
     "data": {
      "text/plain": [
       "'x'"
      ]
     },
     "execution_count": 12,
     "metadata": {},
     "output_type": "execute_result"
    }
   ],
   "source": [
    "df.index.name"
   ]
  }
 ],
 "metadata": {
  "interpreter": {
   "hash": "c0e6e991c6d211bde555230c01c68c993edb8d40dba3c3698df5e587ccf488be"
  },
  "kernelspec": {
   "display_name": "Python 3.9.7 ('pythonGui')",
   "language": "python",
   "name": "python3"
  },
  "language_info": {
   "codemirror_mode": {
    "name": "ipython",
    "version": 3
   },
   "file_extension": ".py",
   "mimetype": "text/x-python",
   "name": "python",
   "nbconvert_exporter": "python",
   "pygments_lexer": "ipython3",
   "version": "3.9.7"
  },
  "orig_nbformat": 4
 },
 "nbformat": 4,
 "nbformat_minor": 2
}
