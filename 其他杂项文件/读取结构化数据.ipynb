{
 "cells": [
  {
   "cell_type": "code",
   "execution_count": 1,
   "metadata": {
    "collapsed": false,
    "jupyter": {
     "outputs_hidden": false
    },
    "pycharm": {
     "name": "#%%\n"
    }
   },
   "outputs": [],
   "source": [
    "import pandas as pd\n",
    "from io import StringIO\n",
    "import json"
   ]
  },
  {
   "cell_type": "code",
   "execution_count": 2,
   "outputs": [],
   "source": [
    "# 设置做大显示列和行，中间不显示省略号\n",
    "pd.set_option('display.max_rows', None)  # 设置最大行数\n",
    "pd.set_option('display.max_columns', None)  # 设置最大列数\n",
    "pd.set_option('display.max_colwidth', 1000)  # 最大列宽度\n",
    "pd.set_option('expand_frame_repr', False)  # 当列太多时不换行"
   ],
   "metadata": {
    "collapsed": false,
    "pycharm": {
     "name": "#%%\n"
    }
   }
  },
  {
   "cell_type": "code",
   "execution_count": 3,
   "outputs": [],
   "source": [
    "json_file_path = r\"I:\\quant\\-Pandas-\\其他杂项文件\\response.json\""
   ],
   "metadata": {
    "collapsed": false,
    "pycharm": {
     "name": "#%%\n"
    }
   }
  },
  {
   "cell_type": "code",
   "execution_count": 4,
   "outputs": [],
   "source": [
    "with open(json_file_path, 'r', encoding='utf-8') as j:\n",
    "\tcontents = json.loads(j.read())\n"
   ],
   "metadata": {
    "collapsed": false,
    "pycharm": {
     "name": "#%%\n"
    }
   }
  },
  {
   "cell_type": "code",
   "execution_count": 63,
   "outputs": [],
   "source": [
    "contents\n",
    "# type(contents)\n",
    "# for k, v in contents.items():\n",
    "# \tfor k1, v1 in v[0].items():\n",
    "# \t\tprint(k1)\n",
    "# \t\tprint(v1)\n",
    "for k,v in contents.items():\n",
    "    k\n",
    "    v"
   ],
   "metadata": {
    "collapsed": false,
    "pycharm": {
     "name": "#%%\n"
    }
   }
  },
  {
   "cell_type": "code",
   "execution_count": null,
   "outputs": [],
   "source": [],
   "metadata": {
    "collapsed": false,
    "pycharm": {
     "name": "#%%\n"
    }
   }
  },
  {
   "cell_type": "code",
   "execution_count": 66,
   "outputs": [
    {
     "data": {
      "text/plain": "  deleter                createTime                updateTime deleteTime chflmc_wplyd yiflmc_wplyd           ejflmc_wplyd      lldbm_wplyd                                                                                                                                                                                                                                                                                                                                                                                                                                                                                                                                                                                                                                                                                                                                                                                                                                                                                                                                                                                                                              lldmx_wplyd                                                                                                                                                                                                                                                                                                                                                                                                                                                                                                                                                                                                                                                                                                                                                                                                                                                                                                                                                                                                                    _widget_1653892248126                                                                                                                                                                                                                                                                                                                                                                                                                                                                                                                                                                                                                                                                                                                                                                                                                                                                                                                                                                                                                    _widget_1653892248064                       _id                     appId                   entryId               creator._id creator.name      creator.username  creator.status  creator.type               updater._id updater.name      updater.username  updater.status  updater.type _widget_1649735629436._id _widget_1649735629436.name _widget_1649735629436.username  _widget_1649735629436.status  _widget_1649735629436.type\n0    None  2022-05-28T12:46:05.429Z  2022-05-30T00:29:54.400Z       None          外协件      反滴头剔除系列    6748-05 大盘1280反滴头剔除  TL2022052800001  [{'_id': '6292198d1206fb000771494f', 'lldmx_bianma': '0303070001010', 'lldmx_mingc': '大盘1280选片出口', 'lldmx_guige': '', 'lldmx_daihao': '6748-05-02', 'lldmx_shuliang': 1, 'lldmx_danwei': '件', '_widget_1653869818295': '主材', '_widget_1653869818657': '二选一', 'lldmx_gengxinriqi': '2022-05-27T16:00:00.000Z'}, {'_id': '629235ed82796600097b0eba', 'lldmx_bianma': '0303010013062', 'lldmx_mingc': '气缸支架底', 'lldmx_guige': '', 'lldmx_daihao': '6550-007-2', 'lldmx_shuliang': 1, 'lldmx_danwei': '件', '_widget_1653869818295': '主材', '_widget_1653869818657': '', 'lldmx_gengxinriqi': '2022-05-27T16:00:00.000Z'}, {'_id': '62923637ea15670007ac0003', 'lldmx_bianma': '0303010012062', 'lldmx_mingc': '气缸支架侧片', 'lldmx_guige': '', 'lldmx_daihao': '6550-007-1', 'lldmx_shuliang': 2, 'lldmx_danwei': '件', '_widget_1653869818295': '主材', '_widget_1653869818657': '', 'lldmx_gengxinriqi': '2022-05-28T14:48:18.000Z'}, {'_id': '629410021554cc0008f571eb', 'lldmx_bianma': '0303070002010', 'lldmx_mingc': '反向大盘1280选片出口', 'lld...                                                                                                                                                                                                                                                                                                                                                                                                                                                                                                                                                                                                                                                                                                                                                                                                                                                                                                                                                                                                                                       []                                                                                                                                                                                                                                                                                                                                                                                                                                                                                                                                                                                                                                                                                                                                                                                                                                                                                                                                                                                                                                       []  6292198d1206fb000771494d  606827980feffc0007c314d6  6291dbd55c5b9c00073e81c1  60682789f07eb60007446a6f           蝈蝈           01113328659               1             0  6253e286c8b2fb0008e98d1c           蚂蚱  17204422561226836465               1             0  60682789f07eb60007446a6f                         蝈蝈                    01113328659                             1                           0\n1    None  2022-05-30T00:39:50.805Z  2022-05-30T01:49:34.885Z       None          外协件        牵引机系列         6753-04 150轮牵引  TL2022053000002  [{'_id': '62941256f90b0f0007a01bf3', 'lldmx_bianma': '0309070078010', 'lldmx_mingc': '单牵引150轮带轮底板', 'lldmx_guige': '', 'lldmx_daihao': '6753-04-16', 'lldmx_shuliang': 1, 'lldmx_danwei': '件', '_widget_1653869818295': '主材', '_widget_1653869818657': '件', 'lldmx_gengxinriqi': '2022-05-30T00:31:04.000Z'}, {'_id': '62941256f90b0f0007a01bf4', 'lldmx_bianma': '0309070056010', 'lldmx_mingc': '单牵引150轮下背板', 'lldmx_guige': '', 'lldmx_daihao': '6753-04-08-01', 'lldmx_shuliang': 1, 'lldmx_danwei': '件', '_widget_1653869818295': '主材', '_widget_1653869818657': '件', 'lldmx_gengxinriqi': '2022-05-30T00:32:19.000Z'}, {'_id': '62941256f90b0f0007a01bf5', 'lldmx_bianma': '0309070061010', 'lldmx_mingc': '150挡板支撑杆', 'lldmx_guige': '', 'lldmx_daihao': '6753-04-08-06', 'lldmx_shuliang': 8, 'lldmx_danwei': '件', '_widget_1653869818295': '主材', '_widget_1653869818657': '件', 'lldmx_gengxinriqi': '2022-05-30T00:32:19.000Z'}, {'_id': '62941256f90b0f0007a01bf6', 'lldmx_bianma': '0309070060010', 'lldmx_mingc': '单牵引15...                                                                                                                                                                                                                                                                                                                                                                                                                                                                                                                                                                                                                                                                                                                                                                                                                                                                                                                                                                                                                                       []                                                                                                                                                                                                                                                                                                                                                                                                                                                                                                                                                                                                                                                                                                                                                                                                                                                                                                                                                                                                                                       []  62941256f90b0f0007a01bf1  606827980feffc0007c314d6  6291dbd55c5b9c00073e81c1  6253e286c8b2fb0008e98d1c           蚂蚱  17204422561226836465               1             0  6253e286c8b2fb0008e98d1c           蚂蚱  17204422561226836465               1             0  6253e286c8b2fb0008e98d1c                         蚂蚱           17204422561226836465                             1                           0\n2    None  2022-05-30T02:23:43.096Z  2022-05-30T02:24:22.545Z       None          外协件        打孔器系列   DK12.00 单牵引750W滑台四打孔  TL2022053000003  [{'_id': '62942aaf6b609f000750d07a', 'lldmx_bianma': '0314110001010', 'lldmx_mingc': '新四打孔总板', 'lldmx_guige': '', 'lldmx_daihao': 'DK12.01', 'lldmx_shuliang': 1, 'lldmx_danwei': '件', '_widget_1653869818295': '主材', '_widget_1653869818657': '件', 'lldmx_gengxinriqi': '2022-05-30T02:01:22.000Z'}, {'_id': '62942aaf6b609f000750d07b', 'lldmx_bianma': '0314060023010', 'lldmx_mingc': '滑台打孔宽轴承轴', 'lldmx_guige': '', 'lldmx_daihao': '6760-01-11-01', 'lldmx_shuliang': 9, 'lldmx_danwei': '件', '_widget_1653869818295': '主材', '_widget_1653869818657': '件', 'lldmx_gengxinriqi': '2022-05-30T02:06:25.000Z'}, {'_id': '62942aaf6b609f000750d07c', 'lldmx_bianma': '0314060021010', 'lldmx_mingc': '3mm的垫圈', 'lldmx_guige': '', 'lldmx_daihao': '6760-01-02-02-05', 'lldmx_shuliang': 9, 'lldmx_danwei': '件', '_widget_1653869818295': '主材', '_widget_1653869818657': '件', 'lldmx_gengxinriqi': '2022-05-30T02:06:28.000Z'}, {'_id': '62942aaf6b609f000750d07d', 'lldmx_bianma': '0305020022011', 'lldmx_mingc': '垫圈', 'lldmx_gu...                                                                                                                                                                                                                                                                                                                                                                                                                                                                                                                                                                                                                                                                                                                                                                                                                                                                                                                                                                                                                                       []                                                                                                                                                                                                                                                                                                                                                                                                                                                                                                                                                                                                                                                                                                                                                                                                                                                                                                                                                                                                                                       []  62942aaf6b609f000750d079  606827980feffc0007c314d6  6291dbd55c5b9c00073e81c1  6253e286c8b2fb0008e98d1c           蚂蚱  17204422561226836465               1             0  6253e286c8b2fb0008e98d1c           蚂蚱  17204422561226836465               1             0  6253e286c8b2fb0008e98d1c                         蚂蚱           17204422561226836465                             1                           0\n3    None  2022-05-30T03:42:39.057Z  2022-05-30T03:42:39.057Z       None          外协件         筛选系列        6747-03 双轴承1280  TL2022053000004  [{'_id': '62943d2fa5796c00071d2d0f', 'lldmx_bianma': '0301020017001', 'lldmx_mingc': '电器柜', 'lldmx_guige': '', 'lldmx_daihao': '6511-17', 'lldmx_shuliang': 1, 'lldmx_danwei': '件', '_widget_1653869818295': '主材', '_widget_1653869818657': '件', 'lldmx_gengxinriqi': '2022-05-30T02:27:15.000Z'}, {'_id': '62943d2fa5796c00071d2d10', 'lldmx_bianma': '0301020052010', 'lldmx_mingc': '反电器柜', 'lldmx_guige': '', 'lldmx_daihao': '6511-72', 'lldmx_shuliang': 1, 'lldmx_danwei': '件', '_widget_1653869818295': '主材', '_widget_1653869818657': '件', 'lldmx_gengxinriqi': '2022-05-30T02:48:55.000Z'}, {'_id': '62943d2fa5796c00071d2d11', 'lldmx_bianma': '0301020038001', 'lldmx_mingc': '选片面板', 'lldmx_guige': '', 'lldmx_daihao': '6511-65', 'lldmx_shuliang': 1, 'lldmx_danwei': '件', '_widget_1653869818295': '主材', '_widget_1653869818657': '件', 'lldmx_gengxinriqi': '2022-05-30T02:48:56.000Z'}, {'_id': '62943d2fa5796c00071d2d12', 'lldmx_bianma': '0301020030001', 'lldmx_mingc': '报警灯支架', 'lldmx_guige': '', 'lldmx_daih...                                                                                                                                                                                                                                                                                                                                                                                                                                                                                                                                                                                                                                                                                                                                                                                                                                                                                                                                                                                                                                       []                                                                                                                                                                                                                                                                                                                                                                                                                                                                                                                                                                                                                                                                                                                                                                                                                                                                                                                                                                                                                                       []  62943d2fa5796c00071d2d0e  606827980feffc0007c314d6  6291dbd55c5b9c00073e81c1  6253e286c8b2fb0008e98d1c           蚂蚱  17204422561226836465               1             0  6253e286c8b2fb0008e98d1c           蚂蚱  17204422561226836465               1             0  6253e286c8b2fb0008e98d1c                         蚂蚱           17204422561226836465                             1                           0\n4    None  2022-05-30T06:31:32.958Z  2022-05-30T07:34:23.324Z       None          外协件         筛选系列  SX19.00 单旋转双1280分体双筛选  TL2022053000005  [{'_id': '629464c4b3763100085504b7', 'lldmx_bianma': '0301150001010', 'lldmx_mingc': '双1280双轴承底座框架', 'lldmx_guige': '', 'lldmx_daihao': '6747-11-01', 'lldmx_shuliang': 1, 'lldmx_danwei': '件', '_widget_1653869818295': '主材', '_widget_1653869818657': '件', 'lldmx_gengxinriqi': '2022-05-30T03:45:08.000Z'}, {'_id': '629464c4b3763100085504b8', 'lldmx_bianma': '0301150010010', 'lldmx_mingc': '双1280双轴承底座框架反向', 'lldmx_guige': '', 'lldmx_daihao': '6747-11-04', 'lldmx_shuliang': 1, 'lldmx_danwei': '件', '_widget_1653869818295': '主材', '_widget_1653869818657': '件', 'lldmx_gengxinriqi': '2022-05-30T05:35:25.000Z'}, {'_id': '629464c4b3763100085504b9', 'lldmx_bianma': '0301020017001', 'lldmx_mingc': '电器柜', 'lldmx_guige': '', 'lldmx_daihao': '6511-17', 'lldmx_shuliang': 2, 'lldmx_danwei': '件', '_widget_1653869818295': '主材', '_widget_1653869818657': '二选一', 'lldmx_gengxinriqi': '2022-05-30T05:35:26.000Z'}, {'_id': '629464c4b3763100085504ba', 'lldmx_bianma': '0301020052010', 'lldmx_mingc': '反电器柜', 'lldm...  [{'_id': '629467ecf87f530007c51d7a', '_widget_1653892248127': '081403001', '_widget_1653892248128': '储气罐', '_widget_1653892248129': '0.3/8KG(成品）', '_widget_1653892248130': '0', '_widget_1653892248131': 1, '_widget_1653892248132': '个', '_widget_1653892248133': '辅材', '_widget_1653892248134': '个', '_widget_1653892248135': '2022-05-30T06:36:23.000Z'}, {'_id': '629467ecf87f530007c51d7b', '_widget_1653892248127': '091604005', '_widget_1653892248128': '304补芯', '_widget_1653892248129': '1寸转4分', '_widget_1653892248130': '0', '_widget_1653892248131': 2, '_widget_1653892248132': '个', '_widget_1653892248133': '辅材', '_widget_1653892248134': '个', '_widget_1653892248135': '2022-05-30T06:41:06.000Z'}, {'_id': '629467ecf87f530007c51d7c', '_widget_1653892248127': '091639004', '_widget_1653892248128': '不锈钢外丝', '_widget_1653892248129': '4分', '_widget_1653892248130': '0', '_widget_1653892248131': 2, '_widget_1653892248132': '个', '_widget_1653892248133': '辅材', '_widget_1653892248134': '个', '_widget_1653...  [{'_id': '629467ecf87f530007c51d81', '_widget_1653892248065': '091902001', '_widget_1653892248066': '东历电机', '_widget_1653892248067': 'PF22-0400-20S3', '_widget_1653892248068': '0', '_widget_1653892248069': 2, '_widget_1653892248070': '个', '_widget_1653892248071': '电器件', '_widget_1653892248072': '个', '_widget_1653892248073': '2022-05-30T06:36:23.000Z'}, {'_id': '6294737fa4cca600085e1231', '_widget_1653892248065': '091903003', '_widget_1653892248066': '电机', '_widget_1653892248067': 'GS90L4-1.5KW', '_widget_1653892248068': '0', '_widget_1653892248069': 2, '_widget_1653892248070': '个', '_widget_1653892248071': '电器件', '_widget_1653892248072': '个', '_widget_1653892248073': '2022-05-30T07:22:16.000Z'}, {'_id': '6294737fa4cca600085e1232', '_widget_1653892248065': '093036001', '_widget_1653892248066': '施耐德急停按钮头', '_widget_1653892248067': 'ZB2-BS54C', '_widget_1653892248068': '0', '_widget_1653892248069': 1, '_widget_1653892248070': '个', '_widget_1653892248071': '电器件', '_widget_1653892248072...  629464c4b3763100085504b5  606827980feffc0007c314d6  6291dbd55c5b9c00073e81c1  6253e286c8b2fb0008e98d1c           蚂蚱  17204422561226836465               1             0  6253e286c8b2fb0008e98d1c           蚂蚱  17204422561226836465               1             0  6253e286c8b2fb0008e98d1c                         蚂蚱           17204422561226836465                             1                           0\n5    None  2022-05-30T07:54:21.350Z  2022-05-30T07:54:21.350Z       None          外协件        定型套系列         6509-定型套（2000）  TL2022053000006  [{'_id': '6294782db458540007884b9c', 'lldmx_bianma': '0315010001001', 'lldmx_mingc': '底板', 'lldmx_guige': '', 'lldmx_daihao': '6509-01', 'lldmx_shuliang': 1, 'lldmx_danwei': '件', '_widget_1653869818295': '主材', '_widget_1653869818657': '件', 'lldmx_gengxinriqi': '2022-05-30T07:47:22.000Z'}, {'_id': '6294782db458540007884b9d', 'lldmx_bianma': '0315010002001', 'lldmx_mingc': '水环3', 'lldmx_guige': '', 'lldmx_daihao': '6509-02', 'lldmx_shuliang': 1, 'lldmx_danwei': '件', '_widget_1653869818295': '主材', '_widget_1653869818657': '件', 'lldmx_gengxinriqi': '2022-05-30T07:48:02.000Z'}, {'_id': '6294782db458540007884b9e', 'lldmx_bianma': '0315010003001', 'lldmx_mingc': '水环2', 'lldmx_guige': '', 'lldmx_daihao': '6509-03', 'lldmx_shuliang': 1, 'lldmx_danwei': '件', '_widget_1653869818295': '主材', '_widget_1653869818657': '件', 'lldmx_gengxinriqi': '2022-05-30T07:48:03.000Z'}, {'_id': '6294782db458540007884b9f', 'lldmx_bianma': '0315010004001', 'lldmx_mingc': '水环1', 'lldmx_guige': '', 'lldmx_daihao': ...  [{'_id': '6294782db458540007884bb8', '_widget_1653892248127': '092321002', '_widget_1653892248128': '黄铜公制车床纳子', '_widget_1653892248129': 'M14*1.5', '_widget_1653892248130': '0', '_widget_1653892248131': 5, '_widget_1653892248132': '个', '_widget_1653892248133': '辅材', '_widget_1653892248134': '个', '_widget_1653892248135': '2022-05-30T07:47:22.000Z'}, {'_id': '6294782db458540007884bb9', '_widget_1653892248127': '090101036', '_widget_1653892248128': 'GB/T 70.1-2000 不锈钢内六角圆柱头螺钉', '_widget_1653892248129': 'M8*25', '_widget_1653892248130': '0', '_widget_1653892248131': 4, '_widget_1653892248132': '个', '_widget_1653892248133': '辅材', '_widget_1653892248134': '个', '_widget_1653892248135': '2022-05-30T07:51:19.000Z'}, {'_id': '6294782db458540007884bba', '_widget_1653892248127': '090101025', '_widget_1653892248128': 'GB/T 70.1-2000 不锈钢内六角圆柱头螺钉', '_widget_1653892248129': 'M6*25', '_widget_1653892248130': '0', '_widget_1653892248131': 6, '_widget_1653892248132': '个', '_widget_1653892248133': '辅材...  [{'_id': '6294782db458540007884bcd', '_widget_1653892248065': '091911001', '_widget_1653892248066': '松下私服电机', '_widget_1653892248067': 'MHMF042L1U2M A6 400W', '_widget_1653892248068': '0', '_widget_1653892248069': 1, '_widget_1653892248070': '个', '_widget_1653892248071': '电器件', '_widget_1653892248072': '个', '_widget_1653892248073': '2022-05-30T07:47:22.000Z'}, {'_id': '6294782db458540007884bce', '_widget_1653892248065': '092711005', '_widget_1653892248066': '插头', '_widget_1653892248067': 'SM-50C', '_widget_1653892248068': '0', '_widget_1653892248069': 1, '_widget_1653892248070': '个', '_widget_1653892248071': '电器件', '_widget_1653892248072': '个', '_widget_1653892248073': '2022-05-30T07:54:08.000Z'}, {'_id': '6294782db458540007884bcf', '_widget_1653892248065': '092711006', '_widget_1653892248066': '插头', '_widget_1653892248067': 'SM-6C', '_widget_1653892248068': '0', '_widget_1653892248069': 1, '_widget_1653892248070': '个', '_widget_1653892248071': '电器件', '_widget_1653892248072': '个', ...  6294782db458540007884b9b  606827980feffc0007c314d6  6291dbd55c5b9c00073e81c1  6253e286c8b2fb0008e98d1c           蚂蚱  17204422561226836465               1             0  6253e286c8b2fb0008e98d1c           蚂蚱  17204422561226836465               1             0  6253e286c8b2fb0008e98d1c                         蚂蚱           17204422561226836465                             1                           0\n6    None  2022-05-30T08:22:55.510Z  2022-05-30T08:22:55.510Z       None          外协件         上料系列             1280双轴单筛上料  TL2022053000007  [{'_id': '62947edf1206fb0007061b81', 'lldmx_bianma': '0301020045010', 'lldmx_mingc': '轴承盖', 'lldmx_guige': '', 'lldmx_daihao': '6511-24', 'lldmx_shuliang': 1, 'lldmx_danwei': '件', '_widget_1653869818295': '主材', '_widget_1653869818657': '件', 'lldmx_gengxinriqi': '2022-05-30T07:54:32.000Z'}, {'_id': '62947edf1206fb0007061b82', 'lldmx_bianma': '0301020048010', 'lldmx_mingc': '下料箱传送带外罩', 'lldmx_guige': '', 'lldmx_daihao': '6511-26', 'lldmx_shuliang': 1, 'lldmx_danwei': '件', '_widget_1653869818295': '主材', '_widget_1653869818657': '件', 'lldmx_gengxinriqi': '2022-05-30T08:05:52.000Z'}, {'_id': '62947edf1206fb0007061b83', 'lldmx_bianma': '0301020043010', 'lldmx_mingc': '支撑', 'lldmx_guige': '', 'lldmx_daihao': '6511-30', 'lldmx_shuliang': 2, 'lldmx_danwei': '件', '_widget_1653869818295': '主材', '_widget_1653869818657': '件', 'lldmx_gengxinriqi': '2022-05-30T08:05:53.000Z'}, {'_id': '62947edf1206fb0007061b84', 'lldmx_bianma': '0301020044010', 'lldmx_mingc': '带轮轴1', 'lldmx_guige': '', 'lldmx_dai...  [{'_id': '62947edf1206fb0007061b95', '_widget_1653892248127': '092204001', '_widget_1653892248128': '链条接头', '_widget_1653892248129': '06B-1', '_widget_1653892248130': '0', '_widget_1653892248131': 1, '_widget_1653892248132': '个', '_widget_1653892248133': '辅材', '_widget_1653892248134': '个', '_widget_1653892248135': '2022-05-30T08:18:32.000Z'}, {'_id': '62947edf1206fb0007061b96', '_widget_1653892248127': '092901001', '_widget_1653892248128': 'PP条刷', '_widget_1653892248129': '200*50*30', '_widget_1653892248130': '0', '_widget_1653892248131': 1, '_widget_1653892248132': '个', '_widget_1653892248133': '辅材', '_widget_1653892248134': '个', '_widget_1653892248135': '2022-05-30T08:18:33.000Z'}, {'_id': '62947edf1206fb0007061b97', '_widget_1653892248127': '0302030002010', '_widget_1653892248128': '180x20x7.5铝条毛刷', '_widget_1653892248129': '', '_widget_1653892248130': '6761-01-02', '_widget_1653892248131': 1, '_widget_1653892248132': '件', '_widget_1653892248133': '辅材', '_widget_1653892248134': ...                                                                                                                                                                                                                                                                                                        [{'_id': '62947edf1206fb0007061ba9', '_widget_1653892248065': '091912001', '_widget_1653892248066': '调速电机', '_widget_1653892248067': '5IK-90RGN-20KB', '_widget_1653892248068': '0', '_widget_1653892248069': 1, '_widget_1653892248070': '个', '_widget_1653892248071': '电器件', '_widget_1653892248072': '个', '_widget_1653892248073': '2022-05-30T07:54:32.000Z'}, {'_id': '62947edf1206fb0007061baa', '_widget_1653892248065': '091912004', '_widget_1653892248066': '齿轮箱（常用）', '_widget_1653892248067': '5GN-20KB', '_widget_1653892248068': '0', '_widget_1653892248069': 1, '_widget_1653892248070': '个', '_widget_1653892248071': '电器件', '_widget_1653892248072': '个', '_widget_1653892248073': '2022-05-30T08:22:49.000Z'}]  62947edf1206fb0007061b80  606827980feffc0007c314d6  6291dbd55c5b9c00073e81c1  6253e286c8b2fb0008e98d1c           蚂蚱  17204422561226836465               1             0  6253e286c8b2fb0008e98d1c           蚂蚱  17204422561226836465               1             0  6253e286c8b2fb0008e98d1c                         蚂蚱           17204422561226836465                             1                           0\n7    None  2022-05-30T08:28:11.706Z  2022-05-30T08:28:11.706Z       None          外协件         上料系列              单旋转1280上料  TL2022053000008  [{'_id': '6294801b5620fe00088d6c76', 'lldmx_bianma': '0302070001010', 'lldmx_mingc': '单旋转1280料斗支架底板', 'lldmx_guige': '', 'lldmx_daihao': 'SL07.0001', 'lldmx_shuliang': 1, 'lldmx_danwei': '件', '_widget_1653869818295': '主材', '_widget_1653869818657': '件', 'lldmx_gengxinriqi': '2022-05-30T08:23:08.000Z'}, {'_id': '6294801b5620fe00088d6c77', 'lldmx_bianma': '0302070002010', 'lldmx_mingc': '单旋转1280料斗支架管', 'lldmx_guige': '', 'lldmx_daihao': 'SL07.0002', 'lldmx_shuliang': 1, 'lldmx_danwei': '件', '_widget_1653869818295': '主材', '_widget_1653869818657': '件', 'lldmx_gengxinriqi': '2022-05-30T08:23:33.000Z'}, {'_id': '6294801b5620fe00088d6c78', 'lldmx_bianma': '0302050002010', 'lldmx_mingc': '鸭头护罩', 'lldmx_guige': '', 'lldmx_daihao': '6761-03-02', 'lldmx_shuliang': 2, 'lldmx_danwei': '件', '_widget_1653869818295': '主材', '_widget_1653869818657': '件', 'lldmx_gengxinriqi': '2022-05-30T08:23:34.000Z'}, {'_id': '6294801b5620fe00088d6c79', 'lldmx_bianma': '0302050003010', 'lldmx_mingc': '模板漏斗', 'lldmx...  [{'_id': '6294801b5620fe00088d6c8c', '_widget_1653892248127': '0301020047010', '_widget_1653892248128': '上滴头电机齿轮φ15', '_widget_1653892248129': '', '_widget_1653892248130': '6511-70', '_widget_1653892248131': 2, '_widget_1653892248132': '件', '_widget_1653892248133': '辅材', '_widget_1653892248134': '件', '_widget_1653892248135': '2022-05-30T08:23:08.000Z'}, {'_id': '6294801b5620fe00088d6c8d', '_widget_1653892248127': '092225006', '_widget_1653892248128': '上料带轮轴齿轮φ16', '_widget_1653892248129': '', '_widget_1653892248130': '6761-03-05-14', '_widget_1653892248131': 2, '_widget_1653892248132': '个', '_widget_1653892248133': '辅材', '_widget_1653892248134': '个', '_widget_1653892248135': '2022-05-30T08:25:53.000Z'}, {'_id': '6294801b5620fe00088d6c8e', '_widget_1653892248127': '092214011', '_widget_1653892248128': '同步带', '_widget_1653892248129': '168*1287', '_widget_1653892248130': '0', '_widget_1653892248131': 2, '_widget_1653892248132': '条', '_widget_1653892248133': '辅材', '_widget_165389224813...                                                                                                                                                                                                                                                                                                           [{'_id': '6294801b5620fe00088d6ca3', '_widget_1653892248065': '091912003', '_widget_1653892248066': '齿轮电机', '_widget_1653892248067': '5IK90RGN-CF', '_widget_1653892248068': '0', '_widget_1653892248069': 1, '_widget_1653892248070': '个', '_widget_1653892248071': '电器件', '_widget_1653892248072': '个', '_widget_1653892248073': '2022-05-30T08:23:08.000Z'}, {'_id': '6294801b5620fe00088d6ca4', '_widget_1653892248065': '091912004', '_widget_1653892248066': '齿轮箱（常用）', '_widget_1653892248067': '5GN-20KB', '_widget_1653892248068': '0', '_widget_1653892248069': 1, '_widget_1653892248070': '个', '_widget_1653892248071': '电器件', '_widget_1653892248072': '个', '_widget_1653892248073': '2022-05-30T08:28:05.000Z'}]  6294801b5620fe00088d6c75  606827980feffc0007c314d6  6291dbd55c5b9c00073e81c1  6253e286c8b2fb0008e98d1c           蚂蚱  17204422561226836465               1             0  6253e286c8b2fb0008e98d1c           蚂蚱  17204422561226836465               1             0  6253e286c8b2fb0008e98d1c                         蚂蚱           17204422561226836465                             1                           0\n8    None  2022-05-31T02:29:36.615Z  2022-05-31T02:29:36.615Z       None          外协件       二次冷却系列         6513-01 6米二次冷却  TL2022053100009                                                                                                                                                                                                                                                                                                                                                                                                                              [{'_id': '62957d90b1454c00088b1bb0', 'lldmx_bianma': '0308010019010', 'lldmx_mingc': '二次冷却水箱', 'lldmx_guige': '', 'lldmx_daihao': '6512-00', 'lldmx_shuliang': 1, 'lldmx_danwei': '件', '_widget_1653869818295': '主材', '_widget_1653869818657': '件', 'lldmx_gengxinriqi': '2022-05-31T00:23:58.000Z'}, {'_id': '62957d90b1454c00088b1bb1', 'lldmx_bianma': '0308020013010', 'lldmx_mingc': '新钩子座', 'lldmx_guige': '', 'lldmx_daihao': '6513-01-15', 'lldmx_shuliang': 9, 'lldmx_danwei': '件', '_widget_1653869818295': '主材', '_widget_1653869818657': '件', 'lldmx_gengxinriqi': '2022-05-31T02:24:54.000Z'}]  [{'_id': '62957d90b1454c00088b1bb2', '_widget_1653892248127': '0307010106010', '_widget_1653892248128': '刮水锁母', '_widget_1653892248129': '', '_widget_1653892248130': '6505-12-03', '_widget_1653892248131': 4, '_widget_1653892248132': '件', '_widget_1653892248133': '辅材', '_widget_1653892248134': '件', '_widget_1653892248135': '2022-05-31T00:23:58.000Z'}, {'_id': '62957d90b1454c00088b1bb3', '_widget_1653892248127': '0307010105010', '_widget_1653892248128': '刮水螺母B', '_widget_1653892248129': '', '_widget_1653892248130': '6505-12-02', '_widget_1653892248131': 4, '_widget_1653892248132': '件', '_widget_1653892248133': '辅材', '_widget_1653892248134': '件', '_widget_1653892248135': '2022-05-31T02:25:13.000Z'}, {'_id': '62957d90b1454c00088b1bb4', '_widget_1653892248127': '0307010104010', '_widget_1653892248128': '刮水螺母A', '_widget_1653892248129': '', '_widget_1653892248130': '6505-12-01', '_widget_1653892248131': 4, '_widget_1653892248132': '件', '_widget_1653892248133': '辅材', '_widget_165389224813...                                                                                                                                                                                                                                                                                                                                                                                                                                                                                                                                                                                                                                                                                                                                                                                                                                                                                                                                                                                                                                       []  62957d90b1454c00088b1bad  606827980feffc0007c314d6  6291dbd55c5b9c00073e81c1  6253e286c8b2fb0008e98d1c           蚂蚱  17204422561226836465               1             0  6253e286c8b2fb0008e98d1c           蚂蚱  17204422561226836465               1             0  6253e286c8b2fb0008e98d1c                         蚂蚱           17204422561226836465                             1                           0\n9    None  2022-05-31T02:34:42.726Z  2022-05-31T07:00:44.972Z       None          外协件       二次冷却系列         6763-02 4米二次冷却  TL2022053100010  [{'_id': '62957ec22c8a0c00075edc92', 'lldmx_bianma': '0308040002010', 'lldmx_mingc': '4米整体反向冷却箱体', 'lldmx_guige': '', 'lldmx_daihao': '6563-02-02', 'lldmx_shuliang': 1, 'lldmx_danwei': '件', '_widget_1653869818295': '主材', '_widget_1653869818657': '件', 'lldmx_gengxinriqi': '2022-05-31T02:30:11.000Z'}, {'_id': '62957ec22c8a0c00075edc93', 'lldmx_bianma': '0308040006010', 'lldmx_mingc': '4米整体正向冷却箱体', 'lldmx_guige': '', 'lldmx_daihao': '6563-02-06', 'lldmx_shuliang': 1, 'lldmx_danwei': '件', '_widget_1653869818295': '主材', '_widget_1653869818657': '件', 'lldmx_gengxinriqi': '2022-05-31T02:30:57.000Z'}, {'_id': '62957ec22c8a0c00075edc94', 'lldmx_bianma': '0308020013010', 'lldmx_mingc': '新钩子座', 'lldmx_guige': '', 'lldmx_daihao': '6513-01-15', 'lldmx_shuliang': 5, 'lldmx_danwei': '件', '_widget_1653869818295': '主材', '_widget_1653869818657': '件', 'lldmx_gengxinriqi': '2022-05-31T02:30:58.000Z'}, {'_id': '62957ec22c8a0c00075edc95', 'lldmx_bianma': '0308010009010', 'lldmx_mingc': '地脚护罩', 'lldmx_gu...  [{'_id': '62957ec22c8a0c00075edc99', '_widget_1653892248127': '081434001', '_widget_1653892248128': '带瓷眼吹气嘴(本体）', '_widget_1653892248129': '20mm', '_widget_1653892248130': '0', '_widget_1653892248131': 2, '_widget_1653892248132': '个', '_widget_1653892248133': '辅材', '_widget_1653892248134': '个', '_widget_1653892248135': '2022-05-31T02:30:11.000Z'}, {'_id': '62957ec22c8a0c00075edc9a', '_widget_1653892248127': '0307010106010', '_widget_1653892248128': '刮水锁母', '_widget_1653892248129': '', '_widget_1653892248130': '6505-12-03', '_widget_1653892248131': 2, '_widget_1653892248132': '件', '_widget_1653892248133': '辅材', '_widget_1653892248134': '件', '_widget_1653892248135': '2022-05-31T02:31:46.000Z'}, {'_id': '62957ec22c8a0c00075edc9b', '_widget_1653892248127': '0307010105010', '_widget_1653892248128': '刮水螺母B', '_widget_1653892248129': '', '_widget_1653892248130': '6505-12-02', '_widget_1653892248131': 2, '_widget_1653892248132': '件', '_widget_1653892248133': '辅材', '_widget_1653892248134': ...                                                                                                                                                                                                                                                                                                                                                                                                                                                                                                                                                                                                                                                                                                     [{'_id': '62957ec22c8a0c00075edcb1', '_widget_1653892248065': '', '_widget_1653892248066': '', '_widget_1653892248067': '', '_widget_1653892248068': '', '_widget_1653892248069': 1, '_widget_1653892248070': '', '_widget_1653892248071': '电器件', '_widget_1653892248072': '', '_widget_1653892248073': '2022-05-31T02:30:11.000Z'}]  62957ec22c8a0c00075edc91  606827980feffc0007c314d6  6291dbd55c5b9c00073e81c1  6253e286c8b2fb0008e98d1c           蚂蚱  17204422561226836465               1             0  6253e286c8b2fb0008e98d1c           蚂蚱  17204422561226836465               1             0  6253e286c8b2fb0008e98d1c                         蚂蚱           17204422561226836465                             1                           0",
      "text/html": "<div>\n<style scoped>\n    .dataframe tbody tr th:only-of-type {\n        vertical-align: middle;\n    }\n\n    .dataframe tbody tr th {\n        vertical-align: top;\n    }\n\n    .dataframe thead th {\n        text-align: right;\n    }\n</style>\n<table border=\"1\" class=\"dataframe\">\n  <thead>\n    <tr style=\"text-align: right;\">\n      <th></th>\n      <th>deleter</th>\n      <th>createTime</th>\n      <th>updateTime</th>\n      <th>deleteTime</th>\n      <th>chflmc_wplyd</th>\n      <th>yiflmc_wplyd</th>\n      <th>ejflmc_wplyd</th>\n      <th>lldbm_wplyd</th>\n      <th>lldmx_wplyd</th>\n      <th>_widget_1653892248126</th>\n      <th>_widget_1653892248064</th>\n      <th>_id</th>\n      <th>appId</th>\n      <th>entryId</th>\n      <th>creator._id</th>\n      <th>creator.name</th>\n      <th>creator.username</th>\n      <th>creator.status</th>\n      <th>creator.type</th>\n      <th>updater._id</th>\n      <th>updater.name</th>\n      <th>updater.username</th>\n      <th>updater.status</th>\n      <th>updater.type</th>\n      <th>_widget_1649735629436._id</th>\n      <th>_widget_1649735629436.name</th>\n      <th>_widget_1649735629436.username</th>\n      <th>_widget_1649735629436.status</th>\n      <th>_widget_1649735629436.type</th>\n    </tr>\n  </thead>\n  <tbody>\n    <tr>\n      <th>0</th>\n      <td>None</td>\n      <td>2022-05-28T12:46:05.429Z</td>\n      <td>2022-05-30T00:29:54.400Z</td>\n      <td>None</td>\n      <td>外协件</td>\n      <td>反滴头剔除系列</td>\n      <td>6748-05 大盘1280反滴头剔除</td>\n      <td>TL2022052800001</td>\n      <td>[{'_id': '6292198d1206fb000771494f', 'lldmx_bianma': '0303070001010', 'lldmx_mingc': '大盘1280选片出口', 'lldmx_guige': '', 'lldmx_daihao': '6748-05-02', 'lldmx_shuliang': 1, 'lldmx_danwei': '件', '_widget_1653869818295': '主材', '_widget_1653869818657': '二选一', 'lldmx_gengxinriqi': '2022-05-27T16:00:00.000Z'}, {'_id': '629235ed82796600097b0eba', 'lldmx_bianma': '0303010013062', 'lldmx_mingc': '气缸支架底', 'lldmx_guige': '', 'lldmx_daihao': '6550-007-2', 'lldmx_shuliang': 1, 'lldmx_danwei': '件', '_widget_1653869818295': '主材', '_widget_1653869818657': '', 'lldmx_gengxinriqi': '2022-05-27T16:00:00.000Z'}, {'_id': '62923637ea15670007ac0003', 'lldmx_bianma': '0303010012062', 'lldmx_mingc': '气缸支架侧片', 'lldmx_guige': '', 'lldmx_daihao': '6550-007-1', 'lldmx_shuliang': 2, 'lldmx_danwei': '件', '_widget_1653869818295': '主材', '_widget_1653869818657': '', 'lldmx_gengxinriqi': '2022-05-28T14:48:18.000Z'}, {'_id': '629410021554cc0008f571eb', 'lldmx_bianma': '0303070002010', 'lldmx_mingc': '反向大盘1280选片出口', 'lld...</td>\n      <td>[]</td>\n      <td>[]</td>\n      <td>6292198d1206fb000771494d</td>\n      <td>606827980feffc0007c314d6</td>\n      <td>6291dbd55c5b9c00073e81c1</td>\n      <td>60682789f07eb60007446a6f</td>\n      <td>蝈蝈</td>\n      <td>01113328659</td>\n      <td>1</td>\n      <td>0</td>\n      <td>6253e286c8b2fb0008e98d1c</td>\n      <td>蚂蚱</td>\n      <td>17204422561226836465</td>\n      <td>1</td>\n      <td>0</td>\n      <td>60682789f07eb60007446a6f</td>\n      <td>蝈蝈</td>\n      <td>01113328659</td>\n      <td>1</td>\n      <td>0</td>\n    </tr>\n    <tr>\n      <th>1</th>\n      <td>None</td>\n      <td>2022-05-30T00:39:50.805Z</td>\n      <td>2022-05-30T01:49:34.885Z</td>\n      <td>None</td>\n      <td>外协件</td>\n      <td>牵引机系列</td>\n      <td>6753-04 150轮牵引</td>\n      <td>TL2022053000002</td>\n      <td>[{'_id': '62941256f90b0f0007a01bf3', 'lldmx_bianma': '0309070078010', 'lldmx_mingc': '单牵引150轮带轮底板', 'lldmx_guige': '', 'lldmx_daihao': '6753-04-16', 'lldmx_shuliang': 1, 'lldmx_danwei': '件', '_widget_1653869818295': '主材', '_widget_1653869818657': '件', 'lldmx_gengxinriqi': '2022-05-30T00:31:04.000Z'}, {'_id': '62941256f90b0f0007a01bf4', 'lldmx_bianma': '0309070056010', 'lldmx_mingc': '单牵引150轮下背板', 'lldmx_guige': '', 'lldmx_daihao': '6753-04-08-01', 'lldmx_shuliang': 1, 'lldmx_danwei': '件', '_widget_1653869818295': '主材', '_widget_1653869818657': '件', 'lldmx_gengxinriqi': '2022-05-30T00:32:19.000Z'}, {'_id': '62941256f90b0f0007a01bf5', 'lldmx_bianma': '0309070061010', 'lldmx_mingc': '150挡板支撑杆', 'lldmx_guige': '', 'lldmx_daihao': '6753-04-08-06', 'lldmx_shuliang': 8, 'lldmx_danwei': '件', '_widget_1653869818295': '主材', '_widget_1653869818657': '件', 'lldmx_gengxinriqi': '2022-05-30T00:32:19.000Z'}, {'_id': '62941256f90b0f0007a01bf6', 'lldmx_bianma': '0309070060010', 'lldmx_mingc': '单牵引15...</td>\n      <td>[]</td>\n      <td>[]</td>\n      <td>62941256f90b0f0007a01bf1</td>\n      <td>606827980feffc0007c314d6</td>\n      <td>6291dbd55c5b9c00073e81c1</td>\n      <td>6253e286c8b2fb0008e98d1c</td>\n      <td>蚂蚱</td>\n      <td>17204422561226836465</td>\n      <td>1</td>\n      <td>0</td>\n      <td>6253e286c8b2fb0008e98d1c</td>\n      <td>蚂蚱</td>\n      <td>17204422561226836465</td>\n      <td>1</td>\n      <td>0</td>\n      <td>6253e286c8b2fb0008e98d1c</td>\n      <td>蚂蚱</td>\n      <td>17204422561226836465</td>\n      <td>1</td>\n      <td>0</td>\n    </tr>\n    <tr>\n      <th>2</th>\n      <td>None</td>\n      <td>2022-05-30T02:23:43.096Z</td>\n      <td>2022-05-30T02:24:22.545Z</td>\n      <td>None</td>\n      <td>外协件</td>\n      <td>打孔器系列</td>\n      <td>DK12.00 单牵引750W滑台四打孔</td>\n      <td>TL2022053000003</td>\n      <td>[{'_id': '62942aaf6b609f000750d07a', 'lldmx_bianma': '0314110001010', 'lldmx_mingc': '新四打孔总板', 'lldmx_guige': '', 'lldmx_daihao': 'DK12.01', 'lldmx_shuliang': 1, 'lldmx_danwei': '件', '_widget_1653869818295': '主材', '_widget_1653869818657': '件', 'lldmx_gengxinriqi': '2022-05-30T02:01:22.000Z'}, {'_id': '62942aaf6b609f000750d07b', 'lldmx_bianma': '0314060023010', 'lldmx_mingc': '滑台打孔宽轴承轴', 'lldmx_guige': '', 'lldmx_daihao': '6760-01-11-01', 'lldmx_shuliang': 9, 'lldmx_danwei': '件', '_widget_1653869818295': '主材', '_widget_1653869818657': '件', 'lldmx_gengxinriqi': '2022-05-30T02:06:25.000Z'}, {'_id': '62942aaf6b609f000750d07c', 'lldmx_bianma': '0314060021010', 'lldmx_mingc': '3mm的垫圈', 'lldmx_guige': '', 'lldmx_daihao': '6760-01-02-02-05', 'lldmx_shuliang': 9, 'lldmx_danwei': '件', '_widget_1653869818295': '主材', '_widget_1653869818657': '件', 'lldmx_gengxinriqi': '2022-05-30T02:06:28.000Z'}, {'_id': '62942aaf6b609f000750d07d', 'lldmx_bianma': '0305020022011', 'lldmx_mingc': '垫圈', 'lldmx_gu...</td>\n      <td>[]</td>\n      <td>[]</td>\n      <td>62942aaf6b609f000750d079</td>\n      <td>606827980feffc0007c314d6</td>\n      <td>6291dbd55c5b9c00073e81c1</td>\n      <td>6253e286c8b2fb0008e98d1c</td>\n      <td>蚂蚱</td>\n      <td>17204422561226836465</td>\n      <td>1</td>\n      <td>0</td>\n      <td>6253e286c8b2fb0008e98d1c</td>\n      <td>蚂蚱</td>\n      <td>17204422561226836465</td>\n      <td>1</td>\n      <td>0</td>\n      <td>6253e286c8b2fb0008e98d1c</td>\n      <td>蚂蚱</td>\n      <td>17204422561226836465</td>\n      <td>1</td>\n      <td>0</td>\n    </tr>\n    <tr>\n      <th>3</th>\n      <td>None</td>\n      <td>2022-05-30T03:42:39.057Z</td>\n      <td>2022-05-30T03:42:39.057Z</td>\n      <td>None</td>\n      <td>外协件</td>\n      <td>筛选系列</td>\n      <td>6747-03 双轴承1280</td>\n      <td>TL2022053000004</td>\n      <td>[{'_id': '62943d2fa5796c00071d2d0f', 'lldmx_bianma': '0301020017001', 'lldmx_mingc': '电器柜', 'lldmx_guige': '', 'lldmx_daihao': '6511-17', 'lldmx_shuliang': 1, 'lldmx_danwei': '件', '_widget_1653869818295': '主材', '_widget_1653869818657': '件', 'lldmx_gengxinriqi': '2022-05-30T02:27:15.000Z'}, {'_id': '62943d2fa5796c00071d2d10', 'lldmx_bianma': '0301020052010', 'lldmx_mingc': '反电器柜', 'lldmx_guige': '', 'lldmx_daihao': '6511-72', 'lldmx_shuliang': 1, 'lldmx_danwei': '件', '_widget_1653869818295': '主材', '_widget_1653869818657': '件', 'lldmx_gengxinriqi': '2022-05-30T02:48:55.000Z'}, {'_id': '62943d2fa5796c00071d2d11', 'lldmx_bianma': '0301020038001', 'lldmx_mingc': '选片面板', 'lldmx_guige': '', 'lldmx_daihao': '6511-65', 'lldmx_shuliang': 1, 'lldmx_danwei': '件', '_widget_1653869818295': '主材', '_widget_1653869818657': '件', 'lldmx_gengxinriqi': '2022-05-30T02:48:56.000Z'}, {'_id': '62943d2fa5796c00071d2d12', 'lldmx_bianma': '0301020030001', 'lldmx_mingc': '报警灯支架', 'lldmx_guige': '', 'lldmx_daih...</td>\n      <td>[]</td>\n      <td>[]</td>\n      <td>62943d2fa5796c00071d2d0e</td>\n      <td>606827980feffc0007c314d6</td>\n      <td>6291dbd55c5b9c00073e81c1</td>\n      <td>6253e286c8b2fb0008e98d1c</td>\n      <td>蚂蚱</td>\n      <td>17204422561226836465</td>\n      <td>1</td>\n      <td>0</td>\n      <td>6253e286c8b2fb0008e98d1c</td>\n      <td>蚂蚱</td>\n      <td>17204422561226836465</td>\n      <td>1</td>\n      <td>0</td>\n      <td>6253e286c8b2fb0008e98d1c</td>\n      <td>蚂蚱</td>\n      <td>17204422561226836465</td>\n      <td>1</td>\n      <td>0</td>\n    </tr>\n    <tr>\n      <th>4</th>\n      <td>None</td>\n      <td>2022-05-30T06:31:32.958Z</td>\n      <td>2022-05-30T07:34:23.324Z</td>\n      <td>None</td>\n      <td>外协件</td>\n      <td>筛选系列</td>\n      <td>SX19.00 单旋转双1280分体双筛选</td>\n      <td>TL2022053000005</td>\n      <td>[{'_id': '629464c4b3763100085504b7', 'lldmx_bianma': '0301150001010', 'lldmx_mingc': '双1280双轴承底座框架', 'lldmx_guige': '', 'lldmx_daihao': '6747-11-01', 'lldmx_shuliang': 1, 'lldmx_danwei': '件', '_widget_1653869818295': '主材', '_widget_1653869818657': '件', 'lldmx_gengxinriqi': '2022-05-30T03:45:08.000Z'}, {'_id': '629464c4b3763100085504b8', 'lldmx_bianma': '0301150010010', 'lldmx_mingc': '双1280双轴承底座框架反向', 'lldmx_guige': '', 'lldmx_daihao': '6747-11-04', 'lldmx_shuliang': 1, 'lldmx_danwei': '件', '_widget_1653869818295': '主材', '_widget_1653869818657': '件', 'lldmx_gengxinriqi': '2022-05-30T05:35:25.000Z'}, {'_id': '629464c4b3763100085504b9', 'lldmx_bianma': '0301020017001', 'lldmx_mingc': '电器柜', 'lldmx_guige': '', 'lldmx_daihao': '6511-17', 'lldmx_shuliang': 2, 'lldmx_danwei': '件', '_widget_1653869818295': '主材', '_widget_1653869818657': '二选一', 'lldmx_gengxinriqi': '2022-05-30T05:35:26.000Z'}, {'_id': '629464c4b3763100085504ba', 'lldmx_bianma': '0301020052010', 'lldmx_mingc': '反电器柜', 'lldm...</td>\n      <td>[{'_id': '629467ecf87f530007c51d7a', '_widget_1653892248127': '081403001', '_widget_1653892248128': '储气罐', '_widget_1653892248129': '0.3/8KG(成品）', '_widget_1653892248130': '0', '_widget_1653892248131': 1, '_widget_1653892248132': '个', '_widget_1653892248133': '辅材', '_widget_1653892248134': '个', '_widget_1653892248135': '2022-05-30T06:36:23.000Z'}, {'_id': '629467ecf87f530007c51d7b', '_widget_1653892248127': '091604005', '_widget_1653892248128': '304补芯', '_widget_1653892248129': '1寸转4分', '_widget_1653892248130': '0', '_widget_1653892248131': 2, '_widget_1653892248132': '个', '_widget_1653892248133': '辅材', '_widget_1653892248134': '个', '_widget_1653892248135': '2022-05-30T06:41:06.000Z'}, {'_id': '629467ecf87f530007c51d7c', '_widget_1653892248127': '091639004', '_widget_1653892248128': '不锈钢外丝', '_widget_1653892248129': '4分', '_widget_1653892248130': '0', '_widget_1653892248131': 2, '_widget_1653892248132': '个', '_widget_1653892248133': '辅材', '_widget_1653892248134': '个', '_widget_1653...</td>\n      <td>[{'_id': '629467ecf87f530007c51d81', '_widget_1653892248065': '091902001', '_widget_1653892248066': '东历电机', '_widget_1653892248067': 'PF22-0400-20S3', '_widget_1653892248068': '0', '_widget_1653892248069': 2, '_widget_1653892248070': '个', '_widget_1653892248071': '电器件', '_widget_1653892248072': '个', '_widget_1653892248073': '2022-05-30T06:36:23.000Z'}, {'_id': '6294737fa4cca600085e1231', '_widget_1653892248065': '091903003', '_widget_1653892248066': '电机', '_widget_1653892248067': 'GS90L4-1.5KW', '_widget_1653892248068': '0', '_widget_1653892248069': 2, '_widget_1653892248070': '个', '_widget_1653892248071': '电器件', '_widget_1653892248072': '个', '_widget_1653892248073': '2022-05-30T07:22:16.000Z'}, {'_id': '6294737fa4cca600085e1232', '_widget_1653892248065': '093036001', '_widget_1653892248066': '施耐德急停按钮头', '_widget_1653892248067': 'ZB2-BS54C', '_widget_1653892248068': '0', '_widget_1653892248069': 1, '_widget_1653892248070': '个', '_widget_1653892248071': '电器件', '_widget_1653892248072...</td>\n      <td>629464c4b3763100085504b5</td>\n      <td>606827980feffc0007c314d6</td>\n      <td>6291dbd55c5b9c00073e81c1</td>\n      <td>6253e286c8b2fb0008e98d1c</td>\n      <td>蚂蚱</td>\n      <td>17204422561226836465</td>\n      <td>1</td>\n      <td>0</td>\n      <td>6253e286c8b2fb0008e98d1c</td>\n      <td>蚂蚱</td>\n      <td>17204422561226836465</td>\n      <td>1</td>\n      <td>0</td>\n      <td>6253e286c8b2fb0008e98d1c</td>\n      <td>蚂蚱</td>\n      <td>17204422561226836465</td>\n      <td>1</td>\n      <td>0</td>\n    </tr>\n    <tr>\n      <th>5</th>\n      <td>None</td>\n      <td>2022-05-30T07:54:21.350Z</td>\n      <td>2022-05-30T07:54:21.350Z</td>\n      <td>None</td>\n      <td>外协件</td>\n      <td>定型套系列</td>\n      <td>6509-定型套（2000）</td>\n      <td>TL2022053000006</td>\n      <td>[{'_id': '6294782db458540007884b9c', 'lldmx_bianma': '0315010001001', 'lldmx_mingc': '底板', 'lldmx_guige': '', 'lldmx_daihao': '6509-01', 'lldmx_shuliang': 1, 'lldmx_danwei': '件', '_widget_1653869818295': '主材', '_widget_1653869818657': '件', 'lldmx_gengxinriqi': '2022-05-30T07:47:22.000Z'}, {'_id': '6294782db458540007884b9d', 'lldmx_bianma': '0315010002001', 'lldmx_mingc': '水环3', 'lldmx_guige': '', 'lldmx_daihao': '6509-02', 'lldmx_shuliang': 1, 'lldmx_danwei': '件', '_widget_1653869818295': '主材', '_widget_1653869818657': '件', 'lldmx_gengxinriqi': '2022-05-30T07:48:02.000Z'}, {'_id': '6294782db458540007884b9e', 'lldmx_bianma': '0315010003001', 'lldmx_mingc': '水环2', 'lldmx_guige': '', 'lldmx_daihao': '6509-03', 'lldmx_shuliang': 1, 'lldmx_danwei': '件', '_widget_1653869818295': '主材', '_widget_1653869818657': '件', 'lldmx_gengxinriqi': '2022-05-30T07:48:03.000Z'}, {'_id': '6294782db458540007884b9f', 'lldmx_bianma': '0315010004001', 'lldmx_mingc': '水环1', 'lldmx_guige': '', 'lldmx_daihao': ...</td>\n      <td>[{'_id': '6294782db458540007884bb8', '_widget_1653892248127': '092321002', '_widget_1653892248128': '黄铜公制车床纳子', '_widget_1653892248129': 'M14*1.5', '_widget_1653892248130': '0', '_widget_1653892248131': 5, '_widget_1653892248132': '个', '_widget_1653892248133': '辅材', '_widget_1653892248134': '个', '_widget_1653892248135': '2022-05-30T07:47:22.000Z'}, {'_id': '6294782db458540007884bb9', '_widget_1653892248127': '090101036', '_widget_1653892248128': 'GB/T 70.1-2000 不锈钢内六角圆柱头螺钉', '_widget_1653892248129': 'M8*25', '_widget_1653892248130': '0', '_widget_1653892248131': 4, '_widget_1653892248132': '个', '_widget_1653892248133': '辅材', '_widget_1653892248134': '个', '_widget_1653892248135': '2022-05-30T07:51:19.000Z'}, {'_id': '6294782db458540007884bba', '_widget_1653892248127': '090101025', '_widget_1653892248128': 'GB/T 70.1-2000 不锈钢内六角圆柱头螺钉', '_widget_1653892248129': 'M6*25', '_widget_1653892248130': '0', '_widget_1653892248131': 6, '_widget_1653892248132': '个', '_widget_1653892248133': '辅材...</td>\n      <td>[{'_id': '6294782db458540007884bcd', '_widget_1653892248065': '091911001', '_widget_1653892248066': '松下私服电机', '_widget_1653892248067': 'MHMF042L1U2M A6 400W', '_widget_1653892248068': '0', '_widget_1653892248069': 1, '_widget_1653892248070': '个', '_widget_1653892248071': '电器件', '_widget_1653892248072': '个', '_widget_1653892248073': '2022-05-30T07:47:22.000Z'}, {'_id': '6294782db458540007884bce', '_widget_1653892248065': '092711005', '_widget_1653892248066': '插头', '_widget_1653892248067': 'SM-50C', '_widget_1653892248068': '0', '_widget_1653892248069': 1, '_widget_1653892248070': '个', '_widget_1653892248071': '电器件', '_widget_1653892248072': '个', '_widget_1653892248073': '2022-05-30T07:54:08.000Z'}, {'_id': '6294782db458540007884bcf', '_widget_1653892248065': '092711006', '_widget_1653892248066': '插头', '_widget_1653892248067': 'SM-6C', '_widget_1653892248068': '0', '_widget_1653892248069': 1, '_widget_1653892248070': '个', '_widget_1653892248071': '电器件', '_widget_1653892248072': '个', ...</td>\n      <td>6294782db458540007884b9b</td>\n      <td>606827980feffc0007c314d6</td>\n      <td>6291dbd55c5b9c00073e81c1</td>\n      <td>6253e286c8b2fb0008e98d1c</td>\n      <td>蚂蚱</td>\n      <td>17204422561226836465</td>\n      <td>1</td>\n      <td>0</td>\n      <td>6253e286c8b2fb0008e98d1c</td>\n      <td>蚂蚱</td>\n      <td>17204422561226836465</td>\n      <td>1</td>\n      <td>0</td>\n      <td>6253e286c8b2fb0008e98d1c</td>\n      <td>蚂蚱</td>\n      <td>17204422561226836465</td>\n      <td>1</td>\n      <td>0</td>\n    </tr>\n    <tr>\n      <th>6</th>\n      <td>None</td>\n      <td>2022-05-30T08:22:55.510Z</td>\n      <td>2022-05-30T08:22:55.510Z</td>\n      <td>None</td>\n      <td>外协件</td>\n      <td>上料系列</td>\n      <td>1280双轴单筛上料</td>\n      <td>TL2022053000007</td>\n      <td>[{'_id': '62947edf1206fb0007061b81', 'lldmx_bianma': '0301020045010', 'lldmx_mingc': '轴承盖', 'lldmx_guige': '', 'lldmx_daihao': '6511-24', 'lldmx_shuliang': 1, 'lldmx_danwei': '件', '_widget_1653869818295': '主材', '_widget_1653869818657': '件', 'lldmx_gengxinriqi': '2022-05-30T07:54:32.000Z'}, {'_id': '62947edf1206fb0007061b82', 'lldmx_bianma': '0301020048010', 'lldmx_mingc': '下料箱传送带外罩', 'lldmx_guige': '', 'lldmx_daihao': '6511-26', 'lldmx_shuliang': 1, 'lldmx_danwei': '件', '_widget_1653869818295': '主材', '_widget_1653869818657': '件', 'lldmx_gengxinriqi': '2022-05-30T08:05:52.000Z'}, {'_id': '62947edf1206fb0007061b83', 'lldmx_bianma': '0301020043010', 'lldmx_mingc': '支撑', 'lldmx_guige': '', 'lldmx_daihao': '6511-30', 'lldmx_shuliang': 2, 'lldmx_danwei': '件', '_widget_1653869818295': '主材', '_widget_1653869818657': '件', 'lldmx_gengxinriqi': '2022-05-30T08:05:53.000Z'}, {'_id': '62947edf1206fb0007061b84', 'lldmx_bianma': '0301020044010', 'lldmx_mingc': '带轮轴1', 'lldmx_guige': '', 'lldmx_dai...</td>\n      <td>[{'_id': '62947edf1206fb0007061b95', '_widget_1653892248127': '092204001', '_widget_1653892248128': '链条接头', '_widget_1653892248129': '06B-1', '_widget_1653892248130': '0', '_widget_1653892248131': 1, '_widget_1653892248132': '个', '_widget_1653892248133': '辅材', '_widget_1653892248134': '个', '_widget_1653892248135': '2022-05-30T08:18:32.000Z'}, {'_id': '62947edf1206fb0007061b96', '_widget_1653892248127': '092901001', '_widget_1653892248128': 'PP条刷', '_widget_1653892248129': '200*50*30', '_widget_1653892248130': '0', '_widget_1653892248131': 1, '_widget_1653892248132': '个', '_widget_1653892248133': '辅材', '_widget_1653892248134': '个', '_widget_1653892248135': '2022-05-30T08:18:33.000Z'}, {'_id': '62947edf1206fb0007061b97', '_widget_1653892248127': '0302030002010', '_widget_1653892248128': '180x20x7.5铝条毛刷', '_widget_1653892248129': '', '_widget_1653892248130': '6761-01-02', '_widget_1653892248131': 1, '_widget_1653892248132': '件', '_widget_1653892248133': '辅材', '_widget_1653892248134': ...</td>\n      <td>[{'_id': '62947edf1206fb0007061ba9', '_widget_1653892248065': '091912001', '_widget_1653892248066': '调速电机', '_widget_1653892248067': '5IK-90RGN-20KB', '_widget_1653892248068': '0', '_widget_1653892248069': 1, '_widget_1653892248070': '个', '_widget_1653892248071': '电器件', '_widget_1653892248072': '个', '_widget_1653892248073': '2022-05-30T07:54:32.000Z'}, {'_id': '62947edf1206fb0007061baa', '_widget_1653892248065': '091912004', '_widget_1653892248066': '齿轮箱（常用）', '_widget_1653892248067': '5GN-20KB', '_widget_1653892248068': '0', '_widget_1653892248069': 1, '_widget_1653892248070': '个', '_widget_1653892248071': '电器件', '_widget_1653892248072': '个', '_widget_1653892248073': '2022-05-30T08:22:49.000Z'}]</td>\n      <td>62947edf1206fb0007061b80</td>\n      <td>606827980feffc0007c314d6</td>\n      <td>6291dbd55c5b9c00073e81c1</td>\n      <td>6253e286c8b2fb0008e98d1c</td>\n      <td>蚂蚱</td>\n      <td>17204422561226836465</td>\n      <td>1</td>\n      <td>0</td>\n      <td>6253e286c8b2fb0008e98d1c</td>\n      <td>蚂蚱</td>\n      <td>17204422561226836465</td>\n      <td>1</td>\n      <td>0</td>\n      <td>6253e286c8b2fb0008e98d1c</td>\n      <td>蚂蚱</td>\n      <td>17204422561226836465</td>\n      <td>1</td>\n      <td>0</td>\n    </tr>\n    <tr>\n      <th>7</th>\n      <td>None</td>\n      <td>2022-05-30T08:28:11.706Z</td>\n      <td>2022-05-30T08:28:11.706Z</td>\n      <td>None</td>\n      <td>外协件</td>\n      <td>上料系列</td>\n      <td>单旋转1280上料</td>\n      <td>TL2022053000008</td>\n      <td>[{'_id': '6294801b5620fe00088d6c76', 'lldmx_bianma': '0302070001010', 'lldmx_mingc': '单旋转1280料斗支架底板', 'lldmx_guige': '', 'lldmx_daihao': 'SL07.0001', 'lldmx_shuliang': 1, 'lldmx_danwei': '件', '_widget_1653869818295': '主材', '_widget_1653869818657': '件', 'lldmx_gengxinriqi': '2022-05-30T08:23:08.000Z'}, {'_id': '6294801b5620fe00088d6c77', 'lldmx_bianma': '0302070002010', 'lldmx_mingc': '单旋转1280料斗支架管', 'lldmx_guige': '', 'lldmx_daihao': 'SL07.0002', 'lldmx_shuliang': 1, 'lldmx_danwei': '件', '_widget_1653869818295': '主材', '_widget_1653869818657': '件', 'lldmx_gengxinriqi': '2022-05-30T08:23:33.000Z'}, {'_id': '6294801b5620fe00088d6c78', 'lldmx_bianma': '0302050002010', 'lldmx_mingc': '鸭头护罩', 'lldmx_guige': '', 'lldmx_daihao': '6761-03-02', 'lldmx_shuliang': 2, 'lldmx_danwei': '件', '_widget_1653869818295': '主材', '_widget_1653869818657': '件', 'lldmx_gengxinriqi': '2022-05-30T08:23:34.000Z'}, {'_id': '6294801b5620fe00088d6c79', 'lldmx_bianma': '0302050003010', 'lldmx_mingc': '模板漏斗', 'lldmx...</td>\n      <td>[{'_id': '6294801b5620fe00088d6c8c', '_widget_1653892248127': '0301020047010', '_widget_1653892248128': '上滴头电机齿轮φ15', '_widget_1653892248129': '', '_widget_1653892248130': '6511-70', '_widget_1653892248131': 2, '_widget_1653892248132': '件', '_widget_1653892248133': '辅材', '_widget_1653892248134': '件', '_widget_1653892248135': '2022-05-30T08:23:08.000Z'}, {'_id': '6294801b5620fe00088d6c8d', '_widget_1653892248127': '092225006', '_widget_1653892248128': '上料带轮轴齿轮φ16', '_widget_1653892248129': '', '_widget_1653892248130': '6761-03-05-14', '_widget_1653892248131': 2, '_widget_1653892248132': '个', '_widget_1653892248133': '辅材', '_widget_1653892248134': '个', '_widget_1653892248135': '2022-05-30T08:25:53.000Z'}, {'_id': '6294801b5620fe00088d6c8e', '_widget_1653892248127': '092214011', '_widget_1653892248128': '同步带', '_widget_1653892248129': '168*1287', '_widget_1653892248130': '0', '_widget_1653892248131': 2, '_widget_1653892248132': '条', '_widget_1653892248133': '辅材', '_widget_165389224813...</td>\n      <td>[{'_id': '6294801b5620fe00088d6ca3', '_widget_1653892248065': '091912003', '_widget_1653892248066': '齿轮电机', '_widget_1653892248067': '5IK90RGN-CF', '_widget_1653892248068': '0', '_widget_1653892248069': 1, '_widget_1653892248070': '个', '_widget_1653892248071': '电器件', '_widget_1653892248072': '个', '_widget_1653892248073': '2022-05-30T08:23:08.000Z'}, {'_id': '6294801b5620fe00088d6ca4', '_widget_1653892248065': '091912004', '_widget_1653892248066': '齿轮箱（常用）', '_widget_1653892248067': '5GN-20KB', '_widget_1653892248068': '0', '_widget_1653892248069': 1, '_widget_1653892248070': '个', '_widget_1653892248071': '电器件', '_widget_1653892248072': '个', '_widget_1653892248073': '2022-05-30T08:28:05.000Z'}]</td>\n      <td>6294801b5620fe00088d6c75</td>\n      <td>606827980feffc0007c314d6</td>\n      <td>6291dbd55c5b9c00073e81c1</td>\n      <td>6253e286c8b2fb0008e98d1c</td>\n      <td>蚂蚱</td>\n      <td>17204422561226836465</td>\n      <td>1</td>\n      <td>0</td>\n      <td>6253e286c8b2fb0008e98d1c</td>\n      <td>蚂蚱</td>\n      <td>17204422561226836465</td>\n      <td>1</td>\n      <td>0</td>\n      <td>6253e286c8b2fb0008e98d1c</td>\n      <td>蚂蚱</td>\n      <td>17204422561226836465</td>\n      <td>1</td>\n      <td>0</td>\n    </tr>\n    <tr>\n      <th>8</th>\n      <td>None</td>\n      <td>2022-05-31T02:29:36.615Z</td>\n      <td>2022-05-31T02:29:36.615Z</td>\n      <td>None</td>\n      <td>外协件</td>\n      <td>二次冷却系列</td>\n      <td>6513-01 6米二次冷却</td>\n      <td>TL2022053100009</td>\n      <td>[{'_id': '62957d90b1454c00088b1bb0', 'lldmx_bianma': '0308010019010', 'lldmx_mingc': '二次冷却水箱', 'lldmx_guige': '', 'lldmx_daihao': '6512-00', 'lldmx_shuliang': 1, 'lldmx_danwei': '件', '_widget_1653869818295': '主材', '_widget_1653869818657': '件', 'lldmx_gengxinriqi': '2022-05-31T00:23:58.000Z'}, {'_id': '62957d90b1454c00088b1bb1', 'lldmx_bianma': '0308020013010', 'lldmx_mingc': '新钩子座', 'lldmx_guige': '', 'lldmx_daihao': '6513-01-15', 'lldmx_shuliang': 9, 'lldmx_danwei': '件', '_widget_1653869818295': '主材', '_widget_1653869818657': '件', 'lldmx_gengxinriqi': '2022-05-31T02:24:54.000Z'}]</td>\n      <td>[{'_id': '62957d90b1454c00088b1bb2', '_widget_1653892248127': '0307010106010', '_widget_1653892248128': '刮水锁母', '_widget_1653892248129': '', '_widget_1653892248130': '6505-12-03', '_widget_1653892248131': 4, '_widget_1653892248132': '件', '_widget_1653892248133': '辅材', '_widget_1653892248134': '件', '_widget_1653892248135': '2022-05-31T00:23:58.000Z'}, {'_id': '62957d90b1454c00088b1bb3', '_widget_1653892248127': '0307010105010', '_widget_1653892248128': '刮水螺母B', '_widget_1653892248129': '', '_widget_1653892248130': '6505-12-02', '_widget_1653892248131': 4, '_widget_1653892248132': '件', '_widget_1653892248133': '辅材', '_widget_1653892248134': '件', '_widget_1653892248135': '2022-05-31T02:25:13.000Z'}, {'_id': '62957d90b1454c00088b1bb4', '_widget_1653892248127': '0307010104010', '_widget_1653892248128': '刮水螺母A', '_widget_1653892248129': '', '_widget_1653892248130': '6505-12-01', '_widget_1653892248131': 4, '_widget_1653892248132': '件', '_widget_1653892248133': '辅材', '_widget_165389224813...</td>\n      <td>[]</td>\n      <td>62957d90b1454c00088b1bad</td>\n      <td>606827980feffc0007c314d6</td>\n      <td>6291dbd55c5b9c00073e81c1</td>\n      <td>6253e286c8b2fb0008e98d1c</td>\n      <td>蚂蚱</td>\n      <td>17204422561226836465</td>\n      <td>1</td>\n      <td>0</td>\n      <td>6253e286c8b2fb0008e98d1c</td>\n      <td>蚂蚱</td>\n      <td>17204422561226836465</td>\n      <td>1</td>\n      <td>0</td>\n      <td>6253e286c8b2fb0008e98d1c</td>\n      <td>蚂蚱</td>\n      <td>17204422561226836465</td>\n      <td>1</td>\n      <td>0</td>\n    </tr>\n    <tr>\n      <th>9</th>\n      <td>None</td>\n      <td>2022-05-31T02:34:42.726Z</td>\n      <td>2022-05-31T07:00:44.972Z</td>\n      <td>None</td>\n      <td>外协件</td>\n      <td>二次冷却系列</td>\n      <td>6763-02 4米二次冷却</td>\n      <td>TL2022053100010</td>\n      <td>[{'_id': '62957ec22c8a0c00075edc92', 'lldmx_bianma': '0308040002010', 'lldmx_mingc': '4米整体反向冷却箱体', 'lldmx_guige': '', 'lldmx_daihao': '6563-02-02', 'lldmx_shuliang': 1, 'lldmx_danwei': '件', '_widget_1653869818295': '主材', '_widget_1653869818657': '件', 'lldmx_gengxinriqi': '2022-05-31T02:30:11.000Z'}, {'_id': '62957ec22c8a0c00075edc93', 'lldmx_bianma': '0308040006010', 'lldmx_mingc': '4米整体正向冷却箱体', 'lldmx_guige': '', 'lldmx_daihao': '6563-02-06', 'lldmx_shuliang': 1, 'lldmx_danwei': '件', '_widget_1653869818295': '主材', '_widget_1653869818657': '件', 'lldmx_gengxinriqi': '2022-05-31T02:30:57.000Z'}, {'_id': '62957ec22c8a0c00075edc94', 'lldmx_bianma': '0308020013010', 'lldmx_mingc': '新钩子座', 'lldmx_guige': '', 'lldmx_daihao': '6513-01-15', 'lldmx_shuliang': 5, 'lldmx_danwei': '件', '_widget_1653869818295': '主材', '_widget_1653869818657': '件', 'lldmx_gengxinriqi': '2022-05-31T02:30:58.000Z'}, {'_id': '62957ec22c8a0c00075edc95', 'lldmx_bianma': '0308010009010', 'lldmx_mingc': '地脚护罩', 'lldmx_gu...</td>\n      <td>[{'_id': '62957ec22c8a0c00075edc99', '_widget_1653892248127': '081434001', '_widget_1653892248128': '带瓷眼吹气嘴(本体）', '_widget_1653892248129': '20mm', '_widget_1653892248130': '0', '_widget_1653892248131': 2, '_widget_1653892248132': '个', '_widget_1653892248133': '辅材', '_widget_1653892248134': '个', '_widget_1653892248135': '2022-05-31T02:30:11.000Z'}, {'_id': '62957ec22c8a0c00075edc9a', '_widget_1653892248127': '0307010106010', '_widget_1653892248128': '刮水锁母', '_widget_1653892248129': '', '_widget_1653892248130': '6505-12-03', '_widget_1653892248131': 2, '_widget_1653892248132': '件', '_widget_1653892248133': '辅材', '_widget_1653892248134': '件', '_widget_1653892248135': '2022-05-31T02:31:46.000Z'}, {'_id': '62957ec22c8a0c00075edc9b', '_widget_1653892248127': '0307010105010', '_widget_1653892248128': '刮水螺母B', '_widget_1653892248129': '', '_widget_1653892248130': '6505-12-02', '_widget_1653892248131': 2, '_widget_1653892248132': '件', '_widget_1653892248133': '辅材', '_widget_1653892248134': ...</td>\n      <td>[{'_id': '62957ec22c8a0c00075edcb1', '_widget_1653892248065': '', '_widget_1653892248066': '', '_widget_1653892248067': '', '_widget_1653892248068': '', '_widget_1653892248069': 1, '_widget_1653892248070': '', '_widget_1653892248071': '电器件', '_widget_1653892248072': '', '_widget_1653892248073': '2022-05-31T02:30:11.000Z'}]</td>\n      <td>62957ec22c8a0c00075edc91</td>\n      <td>606827980feffc0007c314d6</td>\n      <td>6291dbd55c5b9c00073e81c1</td>\n      <td>6253e286c8b2fb0008e98d1c</td>\n      <td>蚂蚱</td>\n      <td>17204422561226836465</td>\n      <td>1</td>\n      <td>0</td>\n      <td>6253e286c8b2fb0008e98d1c</td>\n      <td>蚂蚱</td>\n      <td>17204422561226836465</td>\n      <td>1</td>\n      <td>0</td>\n      <td>6253e286c8b2fb0008e98d1c</td>\n      <td>蚂蚱</td>\n      <td>17204422561226836465</td>\n      <td>1</td>\n      <td>0</td>\n    </tr>\n  </tbody>\n</table>\n</div>"
     },
     "execution_count": 66,
     "metadata": {},
     "output_type": "execute_result"
    }
   ],
   "source": [
    "df = pd.json_normalize(contents['data'])\n",
    "# df.explode('_widget_1653892248064')\n",
    "df\n"
   ],
   "metadata": {
    "collapsed": false,
    "pycharm": {
     "name": "#%%\n"
    }
   }
  },
  {
   "cell_type": "markdown",
   "source": [
    "# json_normalize() 解析\n"
   ],
   "metadata": {
    "collapsed": false,
    "pycharm": {
     "name": "#%% md\n"
    }
   }
  },
  {
   "cell_type": "markdown",
   "source": [
    "![](参数详解.png)"
   ],
   "metadata": {
    "collapsed": false,
    "pycharm": {
     "name": "#%% md\n"
    }
   }
  },
  {
   "cell_type": "markdown",
   "source": [
    "![](img.png)"
   ],
   "metadata": {
    "collapsed": false,
    "pycharm": {
     "name": "#%% md\n"
    }
   }
  },
  {
   "cell_type": "code",
   "execution_count": 7,
   "outputs": [],
   "source": [
    "# 解析一般json\n",
    "a_dict = {\n",
    "    'school': 'ABC primary school',\n",
    "    'location': 'London',\n",
    "    'ranking': 2\n",
    "}\n"
   ],
   "metadata": {
    "collapsed": false,
    "pycharm": {
     "name": "#%%\n"
    }
   }
  },
  {
   "cell_type": "code",
   "execution_count": 8,
   "outputs": [
    {
     "data": {
      "text/plain": "               school location  ranking\n0  ABC primary school   London        2",
      "text/html": "<div>\n<style scoped>\n    .dataframe tbody tr th:only-of-type {\n        vertical-align: middle;\n    }\n\n    .dataframe tbody tr th {\n        vertical-align: top;\n    }\n\n    .dataframe thead th {\n        text-align: right;\n    }\n</style>\n<table border=\"1\" class=\"dataframe\">\n  <thead>\n    <tr style=\"text-align: right;\">\n      <th></th>\n      <th>school</th>\n      <th>location</th>\n      <th>ranking</th>\n    </tr>\n  </thead>\n  <tbody>\n    <tr>\n      <th>0</th>\n      <td>ABC primary school</td>\n      <td>London</td>\n      <td>2</td>\n    </tr>\n  </tbody>\n</table>\n</div>"
     },
     "execution_count": 8,
     "metadata": {},
     "output_type": "execute_result"
    }
   ],
   "source": [
    "pd.json_normalize(data=a_dict)\n"
   ],
   "metadata": {
    "collapsed": false,
    "pycharm": {
     "name": "#%%\n"
    }
   }
  },
  {
   "cell_type": "code",
   "execution_count": 9,
   "outputs": [],
   "source": [
    "# 解析一个json对象列表\n",
    "json_list = [\n",
    "    {'class': 'Year 1', 'student number': 20, 'room': 'Yellow'},\n",
    "    {'class': 'Year 2', 'student number': 25, 'room': 'Blue'}\n",
    "]\n"
   ],
   "metadata": {
    "collapsed": false,
    "pycharm": {
     "name": "#%%\n"
    }
   }
  },
  {
   "cell_type": "code",
   "execution_count": 10,
   "outputs": [
    {
     "data": {
      "text/plain": "    class  student number    room\n0  Year 1              20  Yellow\n1  Year 2              25    Blue",
      "text/html": "<div>\n<style scoped>\n    .dataframe tbody tr th:only-of-type {\n        vertical-align: middle;\n    }\n\n    .dataframe tbody tr th {\n        vertical-align: top;\n    }\n\n    .dataframe thead th {\n        text-align: right;\n    }\n</style>\n<table border=\"1\" class=\"dataframe\">\n  <thead>\n    <tr style=\"text-align: right;\">\n      <th></th>\n      <th>class</th>\n      <th>student number</th>\n      <th>room</th>\n    </tr>\n  </thead>\n  <tbody>\n    <tr>\n      <th>0</th>\n      <td>Year 1</td>\n      <td>20</td>\n      <td>Yellow</td>\n    </tr>\n    <tr>\n      <th>1</th>\n      <td>Year 2</td>\n      <td>25</td>\n      <td>Blue</td>\n    </tr>\n  </tbody>\n</table>\n</div>"
     },
     "execution_count": 10,
     "metadata": {},
     "output_type": "execute_result"
    }
   ],
   "source": [
    "pd.json_normalize(data=json_list)\n"
   ],
   "metadata": {
    "collapsed": false,
    "pycharm": {
     "name": "#%%\n"
    }
   }
  },
  {
   "cell_type": "code",
   "execution_count": 11,
   "outputs": [],
   "source": [
    "import requests\n",
    "from pandas import json_normalize\n",
    "# 通过天气API，获取深圳近7天的天气\n",
    "url = 'https://tianqiapi.com/free/week'\n",
    "# 传入url，并设定好相应的params\n",
    "r = requests.get(url, params={\"appid\":\"59257444\", \"appsecret\":\"uULlTGV9 \", 'city':'深圳'})\n",
    "# 将获取到的值转换为json对象\n",
    "result = r.json()\n",
    "df = json_normalize(result, meta=['city', 'cityid', 'update_time'], record_path=['data'])\n"
   ],
   "metadata": {
    "collapsed": false,
    "pycharm": {
     "name": "#%%\n"
    }
   }
  },
  {
   "cell_type": "code",
   "execution_count": 12,
   "outputs": [
    {
     "data": {
      "text/plain": "{'nums': 0,\n 'cityid': '101280601',\n 'city': '深圳',\n 'update_time': '2022-06-11 14:21:28',\n 'data': [{'date': '2022-06-11',\n   'wea': '雷阵雨',\n   'wea_img': 'yu',\n   'tem_day': '29',\n   'tem_night': '26',\n   'win': '西南风',\n   'win_speed': '3-4级'},\n  {'date': '2022-06-12',\n   'wea': '阵雨',\n   'wea_img': 'yu',\n   'tem_day': '31',\n   'tem_night': '27',\n   'win': '西南风',\n   'win_speed': '3-4级'},\n  {'date': '2022-06-13',\n   'wea': '阵雨',\n   'wea_img': 'yu',\n   'tem_day': '31',\n   'tem_night': '26',\n   'win': '西南风',\n   'win_speed': '3-4级'},\n  {'date': '2022-06-14',\n   'wea': '大雨',\n   'wea_img': 'yu',\n   'tem_day': '30',\n   'tem_night': '25',\n   'win': '西南风',\n   'win_speed': '3-4级转<3级'},\n  {'date': '2022-06-15',\n   'wea': '暴雨转大到暴雨',\n   'wea_img': 'yu',\n   'tem_day': '28',\n   'tem_night': '25',\n   'win': '西南风',\n   'win_speed': '3-4级'},\n  {'date': '2022-06-16',\n   'wea': '大到暴雨转雷阵雨',\n   'wea_img': 'yu',\n   'tem_day': '28',\n   'tem_night': '26',\n   'win': '西南风',\n   'win_speed': '3-4级'},\n  {'date': '2022-06-17',\n   'wea': '中雨转阴',\n   'wea_img': 'yu',\n   'tem_day': '30',\n   'tem_night': '27',\n   'win': '南风',\n   'win_speed': '3-4级转<3级'}]}"
     },
     "execution_count": 12,
     "metadata": {},
     "output_type": "execute_result"
    }
   ],
   "source": [
    "result\n"
   ],
   "metadata": {
    "collapsed": false,
    "pycharm": {
     "name": "#%%\n"
    }
   }
  },
  {
   "cell_type": "code",
   "execution_count": 13,
   "outputs": [
    {
     "data": {
      "text/plain": "         date       wea wea_img tem_day tem_night  win win_speed city     cityid          update_time\n0  2022-06-11       雷阵雨      yu      29        26  西南风      3-4级   深圳  101280601  2022-06-11 14:21:28\n1  2022-06-12        阵雨      yu      31        27  西南风      3-4级   深圳  101280601  2022-06-11 14:21:28\n2  2022-06-13        阵雨      yu      31        26  西南风      3-4级   深圳  101280601  2022-06-11 14:21:28\n3  2022-06-14        大雨      yu      30        25  西南风  3-4级转<3级   深圳  101280601  2022-06-11 14:21:28\n4  2022-06-15   暴雨转大到暴雨      yu      28        25  西南风      3-4级   深圳  101280601  2022-06-11 14:21:28\n5  2022-06-16  大到暴雨转雷阵雨      yu      28        26  西南风      3-4级   深圳  101280601  2022-06-11 14:21:28\n6  2022-06-17      中雨转阴      yu      30        27   南风  3-4级转<3级   深圳  101280601  2022-06-11 14:21:28",
      "text/html": "<div>\n<style scoped>\n    .dataframe tbody tr th:only-of-type {\n        vertical-align: middle;\n    }\n\n    .dataframe tbody tr th {\n        vertical-align: top;\n    }\n\n    .dataframe thead th {\n        text-align: right;\n    }\n</style>\n<table border=\"1\" class=\"dataframe\">\n  <thead>\n    <tr style=\"text-align: right;\">\n      <th></th>\n      <th>date</th>\n      <th>wea</th>\n      <th>wea_img</th>\n      <th>tem_day</th>\n      <th>tem_night</th>\n      <th>win</th>\n      <th>win_speed</th>\n      <th>city</th>\n      <th>cityid</th>\n      <th>update_time</th>\n    </tr>\n  </thead>\n  <tbody>\n    <tr>\n      <th>0</th>\n      <td>2022-06-11</td>\n      <td>雷阵雨</td>\n      <td>yu</td>\n      <td>29</td>\n      <td>26</td>\n      <td>西南风</td>\n      <td>3-4级</td>\n      <td>深圳</td>\n      <td>101280601</td>\n      <td>2022-06-11 14:21:28</td>\n    </tr>\n    <tr>\n      <th>1</th>\n      <td>2022-06-12</td>\n      <td>阵雨</td>\n      <td>yu</td>\n      <td>31</td>\n      <td>27</td>\n      <td>西南风</td>\n      <td>3-4级</td>\n      <td>深圳</td>\n      <td>101280601</td>\n      <td>2022-06-11 14:21:28</td>\n    </tr>\n    <tr>\n      <th>2</th>\n      <td>2022-06-13</td>\n      <td>阵雨</td>\n      <td>yu</td>\n      <td>31</td>\n      <td>26</td>\n      <td>西南风</td>\n      <td>3-4级</td>\n      <td>深圳</td>\n      <td>101280601</td>\n      <td>2022-06-11 14:21:28</td>\n    </tr>\n    <tr>\n      <th>3</th>\n      <td>2022-06-14</td>\n      <td>大雨</td>\n      <td>yu</td>\n      <td>30</td>\n      <td>25</td>\n      <td>西南风</td>\n      <td>3-4级转&lt;3级</td>\n      <td>深圳</td>\n      <td>101280601</td>\n      <td>2022-06-11 14:21:28</td>\n    </tr>\n    <tr>\n      <th>4</th>\n      <td>2022-06-15</td>\n      <td>暴雨转大到暴雨</td>\n      <td>yu</td>\n      <td>28</td>\n      <td>25</td>\n      <td>西南风</td>\n      <td>3-4级</td>\n      <td>深圳</td>\n      <td>101280601</td>\n      <td>2022-06-11 14:21:28</td>\n    </tr>\n    <tr>\n      <th>5</th>\n      <td>2022-06-16</td>\n      <td>大到暴雨转雷阵雨</td>\n      <td>yu</td>\n      <td>28</td>\n      <td>26</td>\n      <td>西南风</td>\n      <td>3-4级</td>\n      <td>深圳</td>\n      <td>101280601</td>\n      <td>2022-06-11 14:21:28</td>\n    </tr>\n    <tr>\n      <th>6</th>\n      <td>2022-06-17</td>\n      <td>中雨转阴</td>\n      <td>yu</td>\n      <td>30</td>\n      <td>27</td>\n      <td>南风</td>\n      <td>3-4级转&lt;3级</td>\n      <td>深圳</td>\n      <td>101280601</td>\n      <td>2022-06-11 14:21:28</td>\n    </tr>\n  </tbody>\n</table>\n</div>"
     },
     "execution_count": 13,
     "metadata": {},
     "output_type": "execute_result"
    }
   ],
   "source": [
    "df\n"
   ],
   "metadata": {
    "collapsed": false,
    "pycharm": {
     "name": "#%%\n"
    }
   }
  },
  {
   "cell_type": "code",
   "execution_count": 14,
   "outputs": [
    {
     "data": {
      "text/plain": "               school location  ranking info.president info.contacts.email.admission info.contacts.email.general info.contacts.tel\n0  ABC primary school   London        2    John Kasich             admission@abc.com                info@abc.com         123456789",
      "text/html": "<div>\n<style scoped>\n    .dataframe tbody tr th:only-of-type {\n        vertical-align: middle;\n    }\n\n    .dataframe tbody tr th {\n        vertical-align: top;\n    }\n\n    .dataframe thead th {\n        text-align: right;\n    }\n</style>\n<table border=\"1\" class=\"dataframe\">\n  <thead>\n    <tr style=\"text-align: right;\">\n      <th></th>\n      <th>school</th>\n      <th>location</th>\n      <th>ranking</th>\n      <th>info.president</th>\n      <th>info.contacts.email.admission</th>\n      <th>info.contacts.email.general</th>\n      <th>info.contacts.tel</th>\n    </tr>\n  </thead>\n  <tbody>\n    <tr>\n      <th>0</th>\n      <td>ABC primary school</td>\n      <td>London</td>\n      <td>2</td>\n      <td>John Kasich</td>\n      <td>admission@abc.com</td>\n      <td>info@abc.com</td>\n      <td>123456789</td>\n    </tr>\n  </tbody>\n</table>\n</div>"
     },
     "execution_count": 14,
     "metadata": {},
     "output_type": "execute_result"
    }
   ],
   "source": [
    "# 解析一个多层数据的json\n",
    "json_obj = {\n",
    "    'school': 'ABC primary school',\n",
    "    'location': 'London',\n",
    "    'ranking': 2,\n",
    "    'info': {\n",
    "        'president': 'John Kasich',\n",
    "        'contacts': {\n",
    "            'email': {\n",
    "                'admission': 'admission@abc.com',\n",
    "                'general': 'info@abc.com'\n",
    "            },\n",
    "            'tel': '123456789',\n",
    "        }\n",
    "    }\n",
    "}\n",
    "pd.json_normalize(json_obj)"
   ],
   "metadata": {
    "collapsed": false,
    "pycharm": {
     "name": "#%%\n"
    }
   }
  },
  {
   "cell_type": "code",
   "execution_count": 15,
   "outputs": [
    {
     "data": {
      "text/plain": "    class  student count    room info.teachers.math info.teachers.physics\n0  Year 1             20  Yellow         Rick Scott             Elon Mask\n1  Year 2             25    Blue        Alan Turing       Albert Einstein",
      "text/html": "<div>\n<style scoped>\n    .dataframe tbody tr th:only-of-type {\n        vertical-align: middle;\n    }\n\n    .dataframe tbody tr th {\n        vertical-align: top;\n    }\n\n    .dataframe thead th {\n        text-align: right;\n    }\n</style>\n<table border=\"1\" class=\"dataframe\">\n  <thead>\n    <tr style=\"text-align: right;\">\n      <th></th>\n      <th>class</th>\n      <th>student count</th>\n      <th>room</th>\n      <th>info.teachers.math</th>\n      <th>info.teachers.physics</th>\n    </tr>\n  </thead>\n  <tbody>\n    <tr>\n      <th>0</th>\n      <td>Year 1</td>\n      <td>20</td>\n      <td>Yellow</td>\n      <td>Rick Scott</td>\n      <td>Elon Mask</td>\n    </tr>\n    <tr>\n      <th>1</th>\n      <td>Year 2</td>\n      <td>25</td>\n      <td>Blue</td>\n      <td>Alan Turing</td>\n      <td>Albert Einstein</td>\n    </tr>\n  </tbody>\n</table>\n</div>"
     },
     "execution_count": 15,
     "metadata": {},
     "output_type": "execute_result"
    }
   ],
   "source": [
    "# 解析一个有多层数据的Json对象列表\n",
    "json_list = [\n",
    "    {\n",
    "        'class': 'Year 1',\n",
    "        'student count': 20,\n",
    "        'room': 'Yellow',\n",
    "        'info': {\n",
    "            'teachers': {\n",
    "                'math': 'Rick Scott',\n",
    "                'physics': 'Elon Mask'\n",
    "            }\n",
    "        }\n",
    "    },\n",
    "    {\n",
    "        'class': 'Year 2',\n",
    "        'student count': 25,\n",
    "        'room': 'Blue',\n",
    "        'info': {\n",
    "            'teachers': {\n",
    "                'math': 'Alan Turing',\n",
    "                'physics': 'Albert Einstein'\n",
    "            }\n",
    "        }\n",
    "    }\n",
    "]\n",
    "pd.json_normalize(json_list)"
   ],
   "metadata": {
    "collapsed": false,
    "pycharm": {
     "name": "#%%\n"
    }
   }
  },
  {
   "cell_type": "code",
   "execution_count": 16,
   "outputs": [
    {
     "data": {
      "text/plain": "               school location  ranking                                                      students info.president info.contacts.email.admission info.contacts.email.general info.contacts.tel\n0  ABC primary school   London        2  [{'name': 'Tom'}, {'name': 'James'}, {'name': 'Jacqueline'}]    John Kasich             admission@abc.com                info@abc.com         123456789",
      "text/html": "<div>\n<style scoped>\n    .dataframe tbody tr th:only-of-type {\n        vertical-align: middle;\n    }\n\n    .dataframe tbody tr th {\n        vertical-align: top;\n    }\n\n    .dataframe thead th {\n        text-align: right;\n    }\n</style>\n<table border=\"1\" class=\"dataframe\">\n  <thead>\n    <tr style=\"text-align: right;\">\n      <th></th>\n      <th>school</th>\n      <th>location</th>\n      <th>ranking</th>\n      <th>students</th>\n      <th>info.president</th>\n      <th>info.contacts.email.admission</th>\n      <th>info.contacts.email.general</th>\n      <th>info.contacts.tel</th>\n    </tr>\n  </thead>\n  <tbody>\n    <tr>\n      <th>0</th>\n      <td>ABC primary school</td>\n      <td>London</td>\n      <td>2</td>\n      <td>[{'name': 'Tom'}, {'name': 'James'}, {'name': 'Jacqueline'}]</td>\n      <td>John Kasich</td>\n      <td>admission@abc.com</td>\n      <td>info@abc.com</td>\n      <td>123456789</td>\n    </tr>\n  </tbody>\n</table>\n</div>"
     },
     "execution_count": 16,
     "metadata": {},
     "output_type": "execute_result"
    }
   ],
   "source": [
    "# 解析一个带有嵌套列表的json\n",
    "json_obj = {\n",
    "    'school': 'ABC primary school',\n",
    "    'location': 'London',\n",
    "    'ranking': 2,\n",
    "    'info': {\n",
    "        'president': 'John Kasich',\n",
    "        'contacts': {\n",
    "            'email': {\n",
    "                'admission': 'admission@abc.com',\n",
    "                'general': 'info@abc.com'\n",
    "            },\n",
    "            'tel': '123456789',\n",
    "        }\n",
    "    },\n",
    "    'students': [\n",
    "        {'name': 'Tom'},\n",
    "        {'name': 'James'},\n",
    "        {'name': 'Jacqueline'}\n",
    "    ],\n",
    "}\n",
    "pd.json_normalize(json_obj)"
   ],
   "metadata": {
    "collapsed": false,
    "pycharm": {
     "name": "#%%\n"
    }
   }
  },
  {
   "cell_type": "code",
   "execution_count": 17,
   "outputs": [
    {
     "data": {
      "text/plain": "         name\n0         Tom\n1       James\n2  Jacqueline",
      "text/html": "<div>\n<style scoped>\n    .dataframe tbody tr th:only-of-type {\n        vertical-align: middle;\n    }\n\n    .dataframe tbody tr th {\n        vertical-align: top;\n    }\n\n    .dataframe thead th {\n        text-align: right;\n    }\n</style>\n<table border=\"1\" class=\"dataframe\">\n  <thead>\n    <tr style=\"text-align: right;\">\n      <th></th>\n      <th>name</th>\n    </tr>\n  </thead>\n  <tbody>\n    <tr>\n      <th>0</th>\n      <td>Tom</td>\n    </tr>\n    <tr>\n      <th>1</th>\n      <td>James</td>\n    </tr>\n    <tr>\n      <th>2</th>\n      <td>Jacqueline</td>\n    </tr>\n  </tbody>\n</table>\n</div>"
     },
     "execution_count": 17,
     "metadata": {},
     "output_type": "execute_result"
    }
   ],
   "source": [
    "pd.json_normalize(json_obj,record_path='students')"
   ],
   "metadata": {
    "collapsed": false,
    "pycharm": {
     "name": "#%%\n"
    }
   }
  },
  {
   "cell_type": "code",
   "execution_count": 25,
   "outputs": [
    {
     "data": {
      "text/plain": "         name              school location info.contacts.tel info.contacts.email.general info.contacts.email.admission\n0         Tom  ABC primary school   London         123456789                info@abc.com             admission@abc.com\n1       James  ABC primary school   London         123456789                info@abc.com             admission@abc.com\n2  Jacqueline  ABC primary school   London         123456789                info@abc.com             admission@abc.com",
      "text/html": "<div>\n<style scoped>\n    .dataframe tbody tr th:only-of-type {\n        vertical-align: middle;\n    }\n\n    .dataframe tbody tr th {\n        vertical-align: top;\n    }\n\n    .dataframe thead th {\n        text-align: right;\n    }\n</style>\n<table border=\"1\" class=\"dataframe\">\n  <thead>\n    <tr style=\"text-align: right;\">\n      <th></th>\n      <th>name</th>\n      <th>school</th>\n      <th>location</th>\n      <th>info.contacts.tel</th>\n      <th>info.contacts.email.general</th>\n      <th>info.contacts.email.admission</th>\n    </tr>\n  </thead>\n  <tbody>\n    <tr>\n      <th>0</th>\n      <td>Tom</td>\n      <td>ABC primary school</td>\n      <td>London</td>\n      <td>123456789</td>\n      <td>info@abc.com</td>\n      <td>admission@abc.com</td>\n    </tr>\n    <tr>\n      <th>1</th>\n      <td>James</td>\n      <td>ABC primary school</td>\n      <td>London</td>\n      <td>123456789</td>\n      <td>info@abc.com</td>\n      <td>admission@abc.com</td>\n    </tr>\n    <tr>\n      <th>2</th>\n      <td>Jacqueline</td>\n      <td>ABC primary school</td>\n      <td>London</td>\n      <td>123456789</td>\n      <td>info@abc.com</td>\n      <td>admission@abc.com</td>\n    </tr>\n  </tbody>\n</table>\n</div>"
     },
     "execution_count": 25,
     "metadata": {},
     "output_type": "execute_result"
    }
   ],
   "source": [
    "pd.json_normalize(json_obj, record_path='students', meta=['school', 'location', ['info', 'contacts', 'tel'], ['info', 'contacts', 'email', 'general'],['info','contacts','email','admission']])"
   ],
   "metadata": {
    "collapsed": false,
    "pycharm": {
     "name": "#%%\n"
    }
   }
  },
  {
   "cell_type": "code",
   "execution_count": 47,
   "outputs": [
    {
     "data": {
      "text/plain": "['A', 'C']"
     },
     "execution_count": 47,
     "metadata": {},
     "output_type": "execute_result"
    }
   ],
   "source": [
    "list('AC')\n"
   ],
   "metadata": {
    "collapsed": false,
    "pycharm": {
     "name": "#%%\n"
    }
   }
  },
  {
   "cell_type": "code",
   "execution_count": null,
   "outputs": [],
   "source": [],
   "metadata": {
    "collapsed": false,
    "pycharm": {
     "name": "#%%\n"
    }
   }
  }
 ],
 "metadata": {
  "kernelspec": {
   "display_name": "Python 3 (ipykernel)",
   "language": "python",
   "name": "python3"
  },
  "language_info": {
   "codemirror_mode": {
    "name": "ipython",
    "version": 3
   },
   "file_extension": ".py",
   "mimetype": "text/x-python",
   "name": "python",
   "nbconvert_exporter": "python",
   "pygments_lexer": "ipython3",
   "version": "3.10.4"
  }
 },
 "nbformat": 4,
 "nbformat_minor": 4
}