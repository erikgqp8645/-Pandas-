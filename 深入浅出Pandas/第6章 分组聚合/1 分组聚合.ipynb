{
 "cells": [
  {
   "cell_type": "code",
   "execution_count": 14,
   "outputs": [],
   "source": [
    "import pandas as pd\n"
   ],
   "metadata": {
    "collapsed": false,
    "pycharm": {
     "name": "#%%\n"
    }
   }
  },
  {
   "cell_type": "code",
   "execution_count": 15,
   "outputs": [
    {
     "data": {
      "text/plain": "        name team  Q1  Q2  Q3  Q4\n0      Liver    E  89  21  24  64\n1       Arry    C  36  37  37  57\n2        Ack    A  57  60  18  84\n3      Eorge    C  93  96  71  78\n4        Oah    D  65  49  61  86\n..       ...  ...  ..  ..  ..  ..\n95   Gabriel    C  48  59  87  74\n96   Austin7    C  21  31  30  43\n97  Lincoln4    C  98  93   1  20\n98       Eli    E  11  74  58  91\n99       Ben    E  21  43  41  74\n\n[100 rows x 6 columns]",
      "text/html": "<div>\n<style scoped>\n    .dataframe tbody tr th:only-of-type {\n        vertical-align: middle;\n    }\n\n    .dataframe tbody tr th {\n        vertical-align: top;\n    }\n\n    .dataframe thead th {\n        text-align: right;\n    }\n</style>\n<table border=\"1\" class=\"dataframe\">\n  <thead>\n    <tr style=\"text-align: right;\">\n      <th></th>\n      <th>name</th>\n      <th>team</th>\n      <th>Q1</th>\n      <th>Q2</th>\n      <th>Q3</th>\n      <th>Q4</th>\n    </tr>\n  </thead>\n  <tbody>\n    <tr>\n      <th>0</th>\n      <td>Liver</td>\n      <td>E</td>\n      <td>89</td>\n      <td>21</td>\n      <td>24</td>\n      <td>64</td>\n    </tr>\n    <tr>\n      <th>1</th>\n      <td>Arry</td>\n      <td>C</td>\n      <td>36</td>\n      <td>37</td>\n      <td>37</td>\n      <td>57</td>\n    </tr>\n    <tr>\n      <th>2</th>\n      <td>Ack</td>\n      <td>A</td>\n      <td>57</td>\n      <td>60</td>\n      <td>18</td>\n      <td>84</td>\n    </tr>\n    <tr>\n      <th>3</th>\n      <td>Eorge</td>\n      <td>C</td>\n      <td>93</td>\n      <td>96</td>\n      <td>71</td>\n      <td>78</td>\n    </tr>\n    <tr>\n      <th>4</th>\n      <td>Oah</td>\n      <td>D</td>\n      <td>65</td>\n      <td>49</td>\n      <td>61</td>\n      <td>86</td>\n    </tr>\n    <tr>\n      <th>...</th>\n      <td>...</td>\n      <td>...</td>\n      <td>...</td>\n      <td>...</td>\n      <td>...</td>\n      <td>...</td>\n    </tr>\n    <tr>\n      <th>95</th>\n      <td>Gabriel</td>\n      <td>C</td>\n      <td>48</td>\n      <td>59</td>\n      <td>87</td>\n      <td>74</td>\n    </tr>\n    <tr>\n      <th>96</th>\n      <td>Austin7</td>\n      <td>C</td>\n      <td>21</td>\n      <td>31</td>\n      <td>30</td>\n      <td>43</td>\n    </tr>\n    <tr>\n      <th>97</th>\n      <td>Lincoln4</td>\n      <td>C</td>\n      <td>98</td>\n      <td>93</td>\n      <td>1</td>\n      <td>20</td>\n    </tr>\n    <tr>\n      <th>98</th>\n      <td>Eli</td>\n      <td>E</td>\n      <td>11</td>\n      <td>74</td>\n      <td>58</td>\n      <td>91</td>\n    </tr>\n    <tr>\n      <th>99</th>\n      <td>Ben</td>\n      <td>E</td>\n      <td>21</td>\n      <td>43</td>\n      <td>41</td>\n      <td>74</td>\n    </tr>\n  </tbody>\n</table>\n<p>100 rows × 6 columns</p>\n</div>"
     },
     "execution_count": 15,
     "metadata": {},
     "output_type": "execute_result"
    }
   ],
   "source": [
    "df = pd.read_excel(r\"https://www.gairuo.com/file/data/dataset/team.xlsx\")\n",
    "df\n"
   ],
   "metadata": {
    "collapsed": false,
    "pycharm": {
     "name": "#%%\n"
    }
   }
  },
  {
   "cell_type": "code",
   "execution_count": 16,
   "outputs": [
    {
     "data": {
      "text/plain": "        Q1    Q2    Q3    Q4\nteam                        \nA     1066   639   875   783\nB      975  1218  1202  1136\nC     1056  1194  1068  1127\nD      860  1191  1241  1199\nE      963  1013   881  1033",
      "text/html": "<div>\n<style scoped>\n    .dataframe tbody tr th:only-of-type {\n        vertical-align: middle;\n    }\n\n    .dataframe tbody tr th {\n        vertical-align: top;\n    }\n\n    .dataframe thead th {\n        text-align: right;\n    }\n</style>\n<table border=\"1\" class=\"dataframe\">\n  <thead>\n    <tr style=\"text-align: right;\">\n      <th></th>\n      <th>Q1</th>\n      <th>Q2</th>\n      <th>Q3</th>\n      <th>Q4</th>\n    </tr>\n    <tr>\n      <th>team</th>\n      <th></th>\n      <th></th>\n      <th></th>\n      <th></th>\n    </tr>\n  </thead>\n  <tbody>\n    <tr>\n      <th>A</th>\n      <td>1066</td>\n      <td>639</td>\n      <td>875</td>\n      <td>783</td>\n    </tr>\n    <tr>\n      <th>B</th>\n      <td>975</td>\n      <td>1218</td>\n      <td>1202</td>\n      <td>1136</td>\n    </tr>\n    <tr>\n      <th>C</th>\n      <td>1056</td>\n      <td>1194</td>\n      <td>1068</td>\n      <td>1127</td>\n    </tr>\n    <tr>\n      <th>D</th>\n      <td>860</td>\n      <td>1191</td>\n      <td>1241</td>\n      <td>1199</td>\n    </tr>\n    <tr>\n      <th>E</th>\n      <td>963</td>\n      <td>1013</td>\n      <td>881</td>\n      <td>1033</td>\n    </tr>\n  </tbody>\n</table>\n</div>"
     },
     "execution_count": 16,
     "metadata": {},
     "output_type": "execute_result"
    }
   ],
   "source": [
    "# 按照team分组然后求和\n",
    "df.groupby('team').sum()"
   ],
   "metadata": {
    "collapsed": false,
    "pycharm": {
     "name": "#%%\n"
    }
   }
  },
  {
   "cell_type": "code",
   "execution_count": 17,
   "outputs": [
    {
     "data": {
      "text/plain": "        Q1  Q2         Q3  Q4\nteam                         \nA     1066  17  51.470588  97\nB      975  22  54.636364  99\nC     1056  22  48.545455  98\nD      860  19  65.315789  99\nE      963  20  44.050000  98",
      "text/html": "<div>\n<style scoped>\n    .dataframe tbody tr th:only-of-type {\n        vertical-align: middle;\n    }\n\n    .dataframe tbody tr th {\n        vertical-align: top;\n    }\n\n    .dataframe thead th {\n        text-align: right;\n    }\n</style>\n<table border=\"1\" class=\"dataframe\">\n  <thead>\n    <tr style=\"text-align: right;\">\n      <th></th>\n      <th>Q1</th>\n      <th>Q2</th>\n      <th>Q3</th>\n      <th>Q4</th>\n    </tr>\n    <tr>\n      <th>team</th>\n      <th></th>\n      <th></th>\n      <th></th>\n      <th></th>\n    </tr>\n  </thead>\n  <tbody>\n    <tr>\n      <th>A</th>\n      <td>1066</td>\n      <td>17</td>\n      <td>51.470588</td>\n      <td>97</td>\n    </tr>\n    <tr>\n      <th>B</th>\n      <td>975</td>\n      <td>22</td>\n      <td>54.636364</td>\n      <td>99</td>\n    </tr>\n    <tr>\n      <th>C</th>\n      <td>1056</td>\n      <td>22</td>\n      <td>48.545455</td>\n      <td>98</td>\n    </tr>\n    <tr>\n      <th>D</th>\n      <td>860</td>\n      <td>19</td>\n      <td>65.315789</td>\n      <td>99</td>\n    </tr>\n    <tr>\n      <th>E</th>\n      <td>963</td>\n      <td>20</td>\n      <td>44.050000</td>\n      <td>98</td>\n    </tr>\n  </tbody>\n</table>\n</div>"
     },
     "execution_count": 17,
     "metadata": {},
     "output_type": "execute_result"
    }
   ],
   "source": [
    "# 对不同的列使用不同的计算方法\n",
    "df.groupby('team').agg({'Q1':'sum', # 加\n",
    "                        'Q2':'count',# 计数\n",
    "                        'Q3':'mean', # 平均\n",
    "                        'Q4':'max'}) # 最大\n"
   ],
   "metadata": {
    "collapsed": false,
    "pycharm": {
     "name": "#%%\n"
    }
   }
  },
  {
   "cell_type": "code",
   "execution_count": 18,
   "outputs": [
    {
     "data": {
      "text/plain": "        Q1                   Q2         Q3  Q4\n       sum        std max count       mean max\nteam                                          \nA     1066  24.155136  96    17  51.470588  97\nB      975  32.607896  97    22  54.636364  99\nC     1056  31.000768  98    22  48.545455  98\nD      860  25.886166  80    19  65.315789  99\nE      963  33.242767  97    20  44.050000  98",
      "text/html": "<div>\n<style scoped>\n    .dataframe tbody tr th:only-of-type {\n        vertical-align: middle;\n    }\n\n    .dataframe tbody tr th {\n        vertical-align: top;\n    }\n\n    .dataframe thead tr th {\n        text-align: left;\n    }\n\n    .dataframe thead tr:last-of-type th {\n        text-align: right;\n    }\n</style>\n<table border=\"1\" class=\"dataframe\">\n  <thead>\n    <tr>\n      <th></th>\n      <th colspan=\"3\" halign=\"left\">Q1</th>\n      <th>Q2</th>\n      <th>Q3</th>\n      <th>Q4</th>\n    </tr>\n    <tr>\n      <th></th>\n      <th>sum</th>\n      <th>std</th>\n      <th>max</th>\n      <th>count</th>\n      <th>mean</th>\n      <th>max</th>\n    </tr>\n    <tr>\n      <th>team</th>\n      <th></th>\n      <th></th>\n      <th></th>\n      <th></th>\n      <th></th>\n      <th></th>\n    </tr>\n  </thead>\n  <tbody>\n    <tr>\n      <th>A</th>\n      <td>1066</td>\n      <td>24.155136</td>\n      <td>96</td>\n      <td>17</td>\n      <td>51.470588</td>\n      <td>97</td>\n    </tr>\n    <tr>\n      <th>B</th>\n      <td>975</td>\n      <td>32.607896</td>\n      <td>97</td>\n      <td>22</td>\n      <td>54.636364</td>\n      <td>99</td>\n    </tr>\n    <tr>\n      <th>C</th>\n      <td>1056</td>\n      <td>31.000768</td>\n      <td>98</td>\n      <td>22</td>\n      <td>48.545455</td>\n      <td>98</td>\n    </tr>\n    <tr>\n      <th>D</th>\n      <td>860</td>\n      <td>25.886166</td>\n      <td>80</td>\n      <td>19</td>\n      <td>65.315789</td>\n      <td>99</td>\n    </tr>\n    <tr>\n      <th>E</th>\n      <td>963</td>\n      <td>33.242767</td>\n      <td>97</td>\n      <td>20</td>\n      <td>44.050000</td>\n      <td>98</td>\n    </tr>\n  </tbody>\n</table>\n</div>"
     },
     "execution_count": 18,
     "metadata": {},
     "output_type": "execute_result"
    }
   ],
   "source": [
    "# 对相同的列使用不同的方法\n",
    "df.groupby('team').agg({'Q1':['sum','std','max'], # 加\n",
    "                        'Q2':'count',# 计数\n",
    "                        'Q3':'mean', # 平均\n",
    "                        'Q4':'max'}) # 最大\n"
   ],
   "metadata": {
    "collapsed": false,
    "pycharm": {
     "name": "#%%\n"
    }
   }
  },
  {
   "cell_type": "code",
   "execution_count": 19,
   "outputs": [
    {
     "data": {
      "text/plain": "team\nA    1066\nB     975\nC    1056\nD     860\nE     963\nName: Q1, dtype: int64"
     },
     "execution_count": 19,
     "metadata": {},
     "output_type": "execute_result"
    }
   ],
   "source": [
    "# 对Series分组\n",
    "df.Q1.groupby(df.team).sum()\n"
   ],
   "metadata": {
    "collapsed": false,
    "pycharm": {
     "name": "#%%\n"
    }
   }
  },
  {
   "cell_type": "markdown",
   "source": [
    "## 6.2 分组"
   ],
   "metadata": {
    "collapsed": false,
    "pycharm": {
     "name": "#%% md\n"
    }
   }
  },
  {
   "cell_type": "code",
   "execution_count": 20,
   "outputs": [
    {
     "data": {
      "text/plain": "<pandas.core.groupby.generic.DataFrameGroupBy object at 0x0000023BBAC7C880>"
     },
     "execution_count": 20,
     "metadata": {},
     "output_type": "execute_result"
    }
   ],
   "source": [
    "df.groupby('team') # 分组对象是操作的基础\n"
   ],
   "metadata": {
    "collapsed": false,
    "pycharm": {
     "name": "#%%\n"
    }
   }
  },
  {
   "cell_type": "code",
   "execution_count": 21,
   "outputs": [
    {
     "data": {
      "text/plain": "<pandas.core.groupby.generic.SeriesGroupBy object at 0x0000023BBAC7C040>"
     },
     "execution_count": 21,
     "metadata": {},
     "output_type": "execute_result"
    }
   ],
   "source": [
    "df.Q1.groupby(df.team)\n"
   ],
   "metadata": {
    "collapsed": false,
    "pycharm": {
     "name": "#%%\n"
    }
   }
  },
  {
   "cell_type": "markdown",
   "source": [
    "### 6.2.2 按标签分组\n"
   ],
   "metadata": {
    "collapsed": false,
    "pycharm": {
     "name": "#%% md\n"
    }
   }
  },
  {
   "cell_type": "code",
   "execution_count": 23,
   "outputs": [
    {
     "ename": "KeyError",
     "evalue": "'col'",
     "output_type": "error",
     "traceback": [
      "\u001B[1;31m---------------------------------------------------------------------------\u001B[0m",
      "\u001B[1;31mKeyError\u001B[0m                                  Traceback (most recent call last)",
      "Input \u001B[1;32mIn [23]\u001B[0m, in \u001B[0;36m<module>\u001B[1;34m\u001B[0m\n\u001B[0;32m      1\u001B[0m \u001B[38;5;66;03m# 制定DataFrame中的一列\u001B[39;00m\n\u001B[1;32m----> 2\u001B[0m grouped \u001B[38;5;241m=\u001B[39m \u001B[43mdf\u001B[49m\u001B[38;5;241;43m.\u001B[39;49m\u001B[43mgroupby\u001B[49m\u001B[43m(\u001B[49m\u001B[38;5;124;43m'\u001B[39;49m\u001B[38;5;124;43mcol\u001B[39;49m\u001B[38;5;124;43m'\u001B[39;49m\u001B[43m)\u001B[49m \u001B[38;5;66;03m# 单列\u001B[39;00m\n\u001B[0;32m      3\u001B[0m grouped1 \u001B[38;5;241m=\u001B[39m df\u001B[38;5;241m.\u001B[39mgroupby(\u001B[38;5;124m'\u001B[39m\u001B[38;5;124mcol\u001B[39m\u001B[38;5;124m'\u001B[39m,axis\u001B[38;5;241m=\u001B[39m\u001B[38;5;124m'\u001B[39m\u001B[38;5;124mcolumns\u001B[39m\u001B[38;5;124m'\u001B[39m) \u001B[38;5;66;03m# 按行\u001B[39;00m\n\u001B[0;32m      4\u001B[0m grouped2 \u001B[38;5;241m=\u001B[39m df\u001B[38;5;241m.\u001B[39mgroupby([\u001B[38;5;124m'\u001B[39m\u001B[38;5;124mcol1\u001B[39m\u001B[38;5;124m'\u001B[39m, \u001B[38;5;124m'\u001B[39m\u001B[38;5;124mcol2\u001B[39m\u001B[38;5;124m'\u001B[39m])\n",
      "File \u001B[1;32m~\\miniconda3\\envs\\shenruqianchupandas\\lib\\site-packages\\pandas\\core\\frame.py:7706\u001B[0m, in \u001B[0;36mDataFrame.groupby\u001B[1;34m(self, by, axis, level, as_index, sort, group_keys, squeeze, observed, dropna)\u001B[0m\n\u001B[0;32m   7701\u001B[0m axis \u001B[38;5;241m=\u001B[39m \u001B[38;5;28mself\u001B[39m\u001B[38;5;241m.\u001B[39m_get_axis_number(axis)\n\u001B[0;32m   7703\u001B[0m \u001B[38;5;66;03m# https://github.com/python/mypy/issues/7642\u001B[39;00m\n\u001B[0;32m   7704\u001B[0m \u001B[38;5;66;03m# error: Argument \"squeeze\" to \"DataFrameGroupBy\" has incompatible type\u001B[39;00m\n\u001B[0;32m   7705\u001B[0m \u001B[38;5;66;03m# \"Union[bool, NoDefault]\"; expected \"bool\"\u001B[39;00m\n\u001B[1;32m-> 7706\u001B[0m \u001B[38;5;28;01mreturn\u001B[39;00m \u001B[43mDataFrameGroupBy\u001B[49m\u001B[43m(\u001B[49m\n\u001B[0;32m   7707\u001B[0m \u001B[43m    \u001B[49m\u001B[43mobj\u001B[49m\u001B[38;5;241;43m=\u001B[39;49m\u001B[38;5;28;43mself\u001B[39;49m\u001B[43m,\u001B[49m\n\u001B[0;32m   7708\u001B[0m \u001B[43m    \u001B[49m\u001B[43mkeys\u001B[49m\u001B[38;5;241;43m=\u001B[39;49m\u001B[43mby\u001B[49m\u001B[43m,\u001B[49m\n\u001B[0;32m   7709\u001B[0m \u001B[43m    \u001B[49m\u001B[43maxis\u001B[49m\u001B[38;5;241;43m=\u001B[39;49m\u001B[43maxis\u001B[49m\u001B[43m,\u001B[49m\n\u001B[0;32m   7710\u001B[0m \u001B[43m    \u001B[49m\u001B[43mlevel\u001B[49m\u001B[38;5;241;43m=\u001B[39;49m\u001B[43mlevel\u001B[49m\u001B[43m,\u001B[49m\n\u001B[0;32m   7711\u001B[0m \u001B[43m    \u001B[49m\u001B[43mas_index\u001B[49m\u001B[38;5;241;43m=\u001B[39;49m\u001B[43mas_index\u001B[49m\u001B[43m,\u001B[49m\n\u001B[0;32m   7712\u001B[0m \u001B[43m    \u001B[49m\u001B[43msort\u001B[49m\u001B[38;5;241;43m=\u001B[39;49m\u001B[43msort\u001B[49m\u001B[43m,\u001B[49m\n\u001B[0;32m   7713\u001B[0m \u001B[43m    \u001B[49m\u001B[43mgroup_keys\u001B[49m\u001B[38;5;241;43m=\u001B[39;49m\u001B[43mgroup_keys\u001B[49m\u001B[43m,\u001B[49m\n\u001B[0;32m   7714\u001B[0m \u001B[43m    \u001B[49m\u001B[43msqueeze\u001B[49m\u001B[38;5;241;43m=\u001B[39;49m\u001B[43msqueeze\u001B[49m\u001B[43m,\u001B[49m\u001B[43m  \u001B[49m\u001B[38;5;66;43;03m# type: ignore[arg-type]\u001B[39;49;00m\n\u001B[0;32m   7715\u001B[0m \u001B[43m    \u001B[49m\u001B[43mobserved\u001B[49m\u001B[38;5;241;43m=\u001B[39;49m\u001B[43mobserved\u001B[49m\u001B[43m,\u001B[49m\n\u001B[0;32m   7716\u001B[0m \u001B[43m    \u001B[49m\u001B[43mdropna\u001B[49m\u001B[38;5;241;43m=\u001B[39;49m\u001B[43mdropna\u001B[49m\u001B[43m,\u001B[49m\n\u001B[0;32m   7717\u001B[0m \u001B[43m\u001B[49m\u001B[43m)\u001B[49m\n",
      "File \u001B[1;32m~\\miniconda3\\envs\\shenruqianchupandas\\lib\\site-packages\\pandas\\core\\groupby\\groupby.py:882\u001B[0m, in \u001B[0;36mGroupBy.__init__\u001B[1;34m(self, obj, keys, axis, level, grouper, exclusions, selection, as_index, sort, group_keys, squeeze, observed, mutated, dropna)\u001B[0m\n\u001B[0;32m    879\u001B[0m \u001B[38;5;28;01mif\u001B[39;00m grouper \u001B[38;5;129;01mis\u001B[39;00m \u001B[38;5;28;01mNone\u001B[39;00m:\n\u001B[0;32m    880\u001B[0m     \u001B[38;5;28;01mfrom\u001B[39;00m \u001B[38;5;21;01mpandas\u001B[39;00m\u001B[38;5;21;01m.\u001B[39;00m\u001B[38;5;21;01mcore\u001B[39;00m\u001B[38;5;21;01m.\u001B[39;00m\u001B[38;5;21;01mgroupby\u001B[39;00m\u001B[38;5;21;01m.\u001B[39;00m\u001B[38;5;21;01mgrouper\u001B[39;00m \u001B[38;5;28;01mimport\u001B[39;00m get_grouper\n\u001B[1;32m--> 882\u001B[0m     grouper, exclusions, obj \u001B[38;5;241m=\u001B[39m \u001B[43mget_grouper\u001B[49m\u001B[43m(\u001B[49m\n\u001B[0;32m    883\u001B[0m \u001B[43m        \u001B[49m\u001B[43mobj\u001B[49m\u001B[43m,\u001B[49m\n\u001B[0;32m    884\u001B[0m \u001B[43m        \u001B[49m\u001B[43mkeys\u001B[49m\u001B[43m,\u001B[49m\n\u001B[0;32m    885\u001B[0m \u001B[43m        \u001B[49m\u001B[43maxis\u001B[49m\u001B[38;5;241;43m=\u001B[39;49m\u001B[43maxis\u001B[49m\u001B[43m,\u001B[49m\n\u001B[0;32m    886\u001B[0m \u001B[43m        \u001B[49m\u001B[43mlevel\u001B[49m\u001B[38;5;241;43m=\u001B[39;49m\u001B[43mlevel\u001B[49m\u001B[43m,\u001B[49m\n\u001B[0;32m    887\u001B[0m \u001B[43m        \u001B[49m\u001B[43msort\u001B[49m\u001B[38;5;241;43m=\u001B[39;49m\u001B[43msort\u001B[49m\u001B[43m,\u001B[49m\n\u001B[0;32m    888\u001B[0m \u001B[43m        \u001B[49m\u001B[43mobserved\u001B[49m\u001B[38;5;241;43m=\u001B[39;49m\u001B[43mobserved\u001B[49m\u001B[43m,\u001B[49m\n\u001B[0;32m    889\u001B[0m \u001B[43m        \u001B[49m\u001B[43mmutated\u001B[49m\u001B[38;5;241;43m=\u001B[39;49m\u001B[38;5;28;43mself\u001B[39;49m\u001B[38;5;241;43m.\u001B[39;49m\u001B[43mmutated\u001B[49m\u001B[43m,\u001B[49m\n\u001B[0;32m    890\u001B[0m \u001B[43m        \u001B[49m\u001B[43mdropna\u001B[49m\u001B[38;5;241;43m=\u001B[39;49m\u001B[38;5;28;43mself\u001B[39;49m\u001B[38;5;241;43m.\u001B[39;49m\u001B[43mdropna\u001B[49m\u001B[43m,\u001B[49m\n\u001B[0;32m    891\u001B[0m \u001B[43m    \u001B[49m\u001B[43m)\u001B[49m\n\u001B[0;32m    893\u001B[0m \u001B[38;5;28mself\u001B[39m\u001B[38;5;241m.\u001B[39mobj \u001B[38;5;241m=\u001B[39m obj\n\u001B[0;32m    894\u001B[0m \u001B[38;5;28mself\u001B[39m\u001B[38;5;241m.\u001B[39maxis \u001B[38;5;241m=\u001B[39m obj\u001B[38;5;241m.\u001B[39m_get_axis_number(axis)\n",
      "File \u001B[1;32m~\\miniconda3\\envs\\shenruqianchupandas\\lib\\site-packages\\pandas\\core\\groupby\\grouper.py:882\u001B[0m, in \u001B[0;36mget_grouper\u001B[1;34m(obj, key, axis, level, sort, observed, mutated, validate, dropna)\u001B[0m\n\u001B[0;32m    880\u001B[0m         in_axis, level, gpr \u001B[38;5;241m=\u001B[39m \u001B[38;5;28;01mFalse\u001B[39;00m, gpr, \u001B[38;5;28;01mNone\u001B[39;00m\n\u001B[0;32m    881\u001B[0m     \u001B[38;5;28;01melse\u001B[39;00m:\n\u001B[1;32m--> 882\u001B[0m         \u001B[38;5;28;01mraise\u001B[39;00m \u001B[38;5;167;01mKeyError\u001B[39;00m(gpr)\n\u001B[0;32m    883\u001B[0m \u001B[38;5;28;01melif\u001B[39;00m \u001B[38;5;28misinstance\u001B[39m(gpr, Grouper) \u001B[38;5;129;01mand\u001B[39;00m gpr\u001B[38;5;241m.\u001B[39mkey \u001B[38;5;129;01mis\u001B[39;00m \u001B[38;5;129;01mnot\u001B[39;00m \u001B[38;5;28;01mNone\u001B[39;00m:\n\u001B[0;32m    884\u001B[0m     \u001B[38;5;66;03m# Add key to exclusions\u001B[39;00m\n\u001B[0;32m    885\u001B[0m     exclusions\u001B[38;5;241m.\u001B[39madd(gpr\u001B[38;5;241m.\u001B[39mkey)\n",
      "\u001B[1;31mKeyError\u001B[0m: 'col'"
     ]
    }
   ],
   "source": [
    "# 制定DataFrame中的一列\n",
    "grouped = df.groupby('col') # 单列\n",
    "grouped1 = df.groupby('col',axis='columns') # 按行\n",
    "grouped2 = df.groupby(['col1', 'col2']) # 多列"
   ],
   "metadata": {
    "collapsed": false,
    "pycharm": {
     "name": "#%%\n"
    }
   }
  },
  {
   "cell_type": "code",
   "execution_count": 24,
   "outputs": [
    {
     "data": {
      "text/plain": "         name team  Q1  Q2  Q3  Q4\n4         Oah    D  65  49  61  86\n8      Reddie    D  64  93  57  72\n21      Ethan    D  79  45  89  88\n23      Mason    D  80  96  26  49\n27     Finley    D  62  73  84  68\n44   Benjamin    D  15  88  52  25\n48      Louie    D  24  84  54  11\n49    Carter7    D  57  52  77  50\n52     Bobby1    D  50  55  60  59\n57     Albie1    D  79  82  56  96\n59       Luca    D   5  40  91  83\n63       Alex    D  14  70  55  87\n65     Reuben    D  70  72  76  56\n66    Jayden6    D  64  21  10  21\n68    Hunter3    D  38  80  82  40\n69  Theodore3    D  43   7  68  80\n72      Luke6    D  15  97  95  99\n89       Ezra    D  16  56  86  61\n94      Aiden    D  20  31  62  68",
      "text/html": "<div>\n<style scoped>\n    .dataframe tbody tr th:only-of-type {\n        vertical-align: middle;\n    }\n\n    .dataframe tbody tr th {\n        vertical-align: top;\n    }\n\n    .dataframe thead th {\n        text-align: right;\n    }\n</style>\n<table border=\"1\" class=\"dataframe\">\n  <thead>\n    <tr style=\"text-align: right;\">\n      <th></th>\n      <th>name</th>\n      <th>team</th>\n      <th>Q1</th>\n      <th>Q2</th>\n      <th>Q3</th>\n      <th>Q4</th>\n    </tr>\n  </thead>\n  <tbody>\n    <tr>\n      <th>4</th>\n      <td>Oah</td>\n      <td>D</td>\n      <td>65</td>\n      <td>49</td>\n      <td>61</td>\n      <td>86</td>\n    </tr>\n    <tr>\n      <th>8</th>\n      <td>Reddie</td>\n      <td>D</td>\n      <td>64</td>\n      <td>93</td>\n      <td>57</td>\n      <td>72</td>\n    </tr>\n    <tr>\n      <th>21</th>\n      <td>Ethan</td>\n      <td>D</td>\n      <td>79</td>\n      <td>45</td>\n      <td>89</td>\n      <td>88</td>\n    </tr>\n    <tr>\n      <th>23</th>\n      <td>Mason</td>\n      <td>D</td>\n      <td>80</td>\n      <td>96</td>\n      <td>26</td>\n      <td>49</td>\n    </tr>\n    <tr>\n      <th>27</th>\n      <td>Finley</td>\n      <td>D</td>\n      <td>62</td>\n      <td>73</td>\n      <td>84</td>\n      <td>68</td>\n    </tr>\n    <tr>\n      <th>44</th>\n      <td>Benjamin</td>\n      <td>D</td>\n      <td>15</td>\n      <td>88</td>\n      <td>52</td>\n      <td>25</td>\n    </tr>\n    <tr>\n      <th>48</th>\n      <td>Louie</td>\n      <td>D</td>\n      <td>24</td>\n      <td>84</td>\n      <td>54</td>\n      <td>11</td>\n    </tr>\n    <tr>\n      <th>49</th>\n      <td>Carter7</td>\n      <td>D</td>\n      <td>57</td>\n      <td>52</td>\n      <td>77</td>\n      <td>50</td>\n    </tr>\n    <tr>\n      <th>52</th>\n      <td>Bobby1</td>\n      <td>D</td>\n      <td>50</td>\n      <td>55</td>\n      <td>60</td>\n      <td>59</td>\n    </tr>\n    <tr>\n      <th>57</th>\n      <td>Albie1</td>\n      <td>D</td>\n      <td>79</td>\n      <td>82</td>\n      <td>56</td>\n      <td>96</td>\n    </tr>\n    <tr>\n      <th>59</th>\n      <td>Luca</td>\n      <td>D</td>\n      <td>5</td>\n      <td>40</td>\n      <td>91</td>\n      <td>83</td>\n    </tr>\n    <tr>\n      <th>63</th>\n      <td>Alex</td>\n      <td>D</td>\n      <td>14</td>\n      <td>70</td>\n      <td>55</td>\n      <td>87</td>\n    </tr>\n    <tr>\n      <th>65</th>\n      <td>Reuben</td>\n      <td>D</td>\n      <td>70</td>\n      <td>72</td>\n      <td>76</td>\n      <td>56</td>\n    </tr>\n    <tr>\n      <th>66</th>\n      <td>Jayden6</td>\n      <td>D</td>\n      <td>64</td>\n      <td>21</td>\n      <td>10</td>\n      <td>21</td>\n    </tr>\n    <tr>\n      <th>68</th>\n      <td>Hunter3</td>\n      <td>D</td>\n      <td>38</td>\n      <td>80</td>\n      <td>82</td>\n      <td>40</td>\n    </tr>\n    <tr>\n      <th>69</th>\n      <td>Theodore3</td>\n      <td>D</td>\n      <td>43</td>\n      <td>7</td>\n      <td>68</td>\n      <td>80</td>\n    </tr>\n    <tr>\n      <th>72</th>\n      <td>Luke6</td>\n      <td>D</td>\n      <td>15</td>\n      <td>97</td>\n      <td>95</td>\n      <td>99</td>\n    </tr>\n    <tr>\n      <th>89</th>\n      <td>Ezra</td>\n      <td>D</td>\n      <td>16</td>\n      <td>56</td>\n      <td>86</td>\n      <td>61</td>\n    </tr>\n    <tr>\n      <th>94</th>\n      <td>Aiden</td>\n      <td>D</td>\n      <td>20</td>\n      <td>31</td>\n      <td>62</td>\n      <td>68</td>\n    </tr>\n  </tbody>\n</table>\n</div>"
     },
     "execution_count": 24,
     "metadata": {},
     "output_type": "execute_result"
    }
   ],
   "source": [
    "# 可以使用get_group 获取分组对象\n",
    "grouped =  df.groupby('team')\n",
    "# 查看D组\n",
    "grouped.get_group('D')\n"
   ],
   "metadata": {
    "collapsed": false,
    "pycharm": {
     "name": "#%%\n"
    }
   }
  },
  {
   "cell_type": "markdown",
   "source": [
    "### 6.2.3 表达式\n"
   ],
   "metadata": {
    "collapsed": false,
    "pycharm": {
     "name": "#%% md\n"
    }
   }
  },
  {
   "cell_type": "markdown",
   "source": [
    "通过行和列的表达式，生成一个布尔数据的系列，从而将数据分为False和True两组\n"
   ],
   "metadata": {
    "collapsed": false,
    "pycharm": {
     "name": "#%% md\n"
    }
   }
  },
  {
   "cell_type": "code",
   "execution_count": 25,
   "outputs": [
    {
     "data": {
      "text/plain": "         Q1    Q2    Q3    Q4\nFalse  2322  2449  2823  2699\nTrue   2598  2806  2444  2579",
      "text/html": "<div>\n<style scoped>\n    .dataframe tbody tr th:only-of-type {\n        vertical-align: middle;\n    }\n\n    .dataframe tbody tr th {\n        vertical-align: top;\n    }\n\n    .dataframe thead th {\n        text-align: right;\n    }\n</style>\n<table border=\"1\" class=\"dataframe\">\n  <thead>\n    <tr style=\"text-align: right;\">\n      <th></th>\n      <th>Q1</th>\n      <th>Q2</th>\n      <th>Q3</th>\n      <th>Q4</th>\n    </tr>\n  </thead>\n  <tbody>\n    <tr>\n      <th>False</th>\n      <td>2322</td>\n      <td>2449</td>\n      <td>2823</td>\n      <td>2699</td>\n    </tr>\n    <tr>\n      <th>True</th>\n      <td>2598</td>\n      <td>2806</td>\n      <td>2444</td>\n      <td>2579</td>\n    </tr>\n  </tbody>\n</table>\n</div>"
     },
     "execution_count": 25,
     "metadata": {},
     "output_type": "execute_result"
    }
   ],
   "source": [
    "# 索引值是否为偶数\n",
    "df.groupby(lambda x: x%2 ==0).sum()\n"
   ],
   "metadata": {
    "collapsed": false,
    "pycharm": {
     "name": "#%%\n"
    }
   }
  },
  {
   "cell_type": "code",
   "execution_count": 27,
   "outputs": [
    {
     "data": {
      "text/plain": "         Q1    Q2    Q3    Q4\nFalse  2322  2449  2823  2699\nTrue   2598  2806  2444  2579",
      "text/html": "<div>\n<style scoped>\n    .dataframe tbody tr th:only-of-type {\n        vertical-align: middle;\n    }\n\n    .dataframe tbody tr th {\n        vertical-align: top;\n    }\n\n    .dataframe thead th {\n        text-align: right;\n    }\n</style>\n<table border=\"1\" class=\"dataframe\">\n  <thead>\n    <tr style=\"text-align: right;\">\n      <th></th>\n      <th>Q1</th>\n      <th>Q2</th>\n      <th>Q3</th>\n      <th>Q4</th>\n    </tr>\n  </thead>\n  <tbody>\n    <tr>\n      <th>False</th>\n      <td>2322</td>\n      <td>2449</td>\n      <td>2823</td>\n      <td>2699</td>\n    </tr>\n    <tr>\n      <th>True</th>\n      <td>2598</td>\n      <td>2806</td>\n      <td>2444</td>\n      <td>2579</td>\n    </tr>\n  </tbody>\n</table>\n</div>"
     },
     "execution_count": 27,
     "metadata": {},
     "output_type": "execute_result"
    }
   ],
   "source": [
    "df.groupby(df.index%2==0).sum() #同上\n"
   ],
   "metadata": {
    "collapsed": false,
    "pycharm": {
     "name": "#%%\n"
    }
   }
  },
  {
   "cell_type": "code",
   "execution_count": 28,
   "outputs": [
    {
     "data": {
      "text/plain": "         Q1    Q2    Q3    Q4\nFalse  2766  2628  2509  2613\nTrue   2154  2627  2758  2665",
      "text/html": "<div>\n<style scoped>\n    .dataframe tbody tr th:only-of-type {\n        vertical-align: middle;\n    }\n\n    .dataframe tbody tr th {\n        vertical-align: top;\n    }\n\n    .dataframe thead th {\n        text-align: right;\n    }\n</style>\n<table border=\"1\" class=\"dataframe\">\n  <thead>\n    <tr style=\"text-align: right;\">\n      <th></th>\n      <th>Q1</th>\n      <th>Q2</th>\n      <th>Q3</th>\n      <th>Q4</th>\n    </tr>\n  </thead>\n  <tbody>\n    <tr>\n      <th>False</th>\n      <td>2766</td>\n      <td>2628</td>\n      <td>2509</td>\n      <td>2613</td>\n    </tr>\n    <tr>\n      <th>True</th>\n      <td>2154</td>\n      <td>2627</td>\n      <td>2758</td>\n      <td>2665</td>\n    </tr>\n  </tbody>\n</table>\n</div>"
     },
     "execution_count": 28,
     "metadata": {},
     "output_type": "execute_result"
    }
   ],
   "source": [
    "# 索引值大于等于50为标准分组\n",
    "df.groupby(lambda x: x >=50).sum()\n",
    "# df.groupby(df.index>=50).sum() #同上\n"
   ],
   "metadata": {
    "collapsed": false,
    "pycharm": {
     "name": "#%%\n"
    }
   }
  },
  {
   "cell_type": "code",
   "execution_count": 33,
   "outputs": [
    {
     "data": {
      "text/plain": "        False  True\n0      LiverE   198\n1       ArryC   167\n2        AckA   219\n3      EorgeC   338\n4        OahD   261\n..        ...   ...\n95   GabrielC   268\n96   Austin7C   125\n97  Lincoln4C   212\n98       EliE   234\n99       BenE   179\n\n[100 rows x 2 columns]",
      "text/html": "<div>\n<style scoped>\n    .dataframe tbody tr th:only-of-type {\n        vertical-align: middle;\n    }\n\n    .dataframe tbody tr th {\n        vertical-align: top;\n    }\n\n    .dataframe thead th {\n        text-align: right;\n    }\n</style>\n<table border=\"1\" class=\"dataframe\">\n  <thead>\n    <tr style=\"text-align: right;\">\n      <th></th>\n      <th>False</th>\n      <th>True</th>\n    </tr>\n  </thead>\n  <tbody>\n    <tr>\n      <th>0</th>\n      <td>LiverE</td>\n      <td>198</td>\n    </tr>\n    <tr>\n      <th>1</th>\n      <td>ArryC</td>\n      <td>167</td>\n    </tr>\n    <tr>\n      <th>2</th>\n      <td>AckA</td>\n      <td>219</td>\n    </tr>\n    <tr>\n      <th>3</th>\n      <td>EorgeC</td>\n      <td>338</td>\n    </tr>\n    <tr>\n      <th>4</th>\n      <td>OahD</td>\n      <td>261</td>\n    </tr>\n    <tr>\n      <th>...</th>\n      <td>...</td>\n      <td>...</td>\n    </tr>\n    <tr>\n      <th>95</th>\n      <td>GabrielC</td>\n      <td>268</td>\n    </tr>\n    <tr>\n      <th>96</th>\n      <td>Austin7C</td>\n      <td>125</td>\n    </tr>\n    <tr>\n      <th>97</th>\n      <td>Lincoln4C</td>\n      <td>212</td>\n    </tr>\n    <tr>\n      <th>98</th>\n      <td>EliE</td>\n      <td>234</td>\n    </tr>\n    <tr>\n      <th>99</th>\n      <td>BenE</td>\n      <td>179</td>\n    </tr>\n  </tbody>\n</table>\n<p>100 rows × 2 columns</p>\n</div>"
     },
     "execution_count": 33,
     "metadata": {},
     "output_type": "execute_result"
    }
   ],
   "source": [
    "# 列名是否包含Q分成两列\n",
    "df.groupby(lambda x: \"Q\" in x,axis=1 ).sum()\n"
   ],
   "metadata": {
    "collapsed": false,
    "pycharm": {
     "name": "#%%\n"
    }
   }
  },
  {
   "cell_type": "code",
   "execution_count": null,
   "outputs": [],
   "source": [],
   "metadata": {
    "collapsed": false,
    "pycharm": {
     "name": "#%%\n"
    }
   }
  }
 ],
 "metadata": {
  "kernelspec": {
   "display_name": "Python 3",
   "language": "python",
   "name": "python3"
  },
  "language_info": {
   "codemirror_mode": {
    "name": "ipython",
    "version": 2
   },
   "file_extension": ".py",
   "mimetype": "text/x-python",
   "name": "python",
   "nbconvert_exporter": "python",
   "pygments_lexer": "ipython2",
   "version": "2.7.6"
  }
 },
 "nbformat": 4,
 "nbformat_minor": 0
}